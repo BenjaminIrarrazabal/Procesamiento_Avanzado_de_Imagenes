{
  "cells": [
    {
      "cell_type": "code",
      "execution_count": null,
      "metadata": {
        "id": "CI45wogeUdP1",
        "colab": {
          "base_uri": "https://localhost:8080/"
        },
        "outputId": "d2898a0a-347c-41f3-eacc-743c73a8748c"
      },
      "outputs": [
        {
          "output_type": "stream",
          "name": "stdout",
          "text": [
            "time: 2.23 ms (started: 2022-10-23 01:14:45 +00:00)\n"
          ]
        }
      ],
      "source": [
        "import numpy as np\n",
        "import cv2\n",
        "from google.colab.patches import cv2_imshow\n",
        "import matplotlib.pyplot as plt\n",
        "import glob\n",
        "import pandas as pd\n",
        "import seaborn as sn\n",
        "from sklearn.model_selection import train_test_split\n",
        "from sklearn.metrics import accuracy_score, confusion_matrix\n",
        "from sklearn.preprocessing import StandardScaler\n",
        "from sklearn.model_selection import PredefinedSplit\n",
        "from sklearn.model_selection import GridSearchCV\n",
        "from sklearn.metrics import ConfusionMatrixDisplay\n",
        "import torch\n",
        "import random"
      ]
    },
    {
      "cell_type": "code",
      "execution_count": null,
      "metadata": {
        "colab": {
          "base_uri": "https://localhost:8080/"
        },
        "id": "wBslgr9bU1K0",
        "outputId": "26b9ef34-8877-4268-bb1d-69eb20110b7b"
      },
      "outputs": [
        {
          "output_type": "stream",
          "name": "stdout",
          "text": [
            "Looking in indexes: https://pypi.org/simple, https://us-python.pkg.dev/colab-wheels/public/simple/\n",
            "Requirement already satisfied: ipython-autotime in /usr/local/lib/python3.7/dist-packages (0.3.1)\n",
            "Requirement already satisfied: ipython in /usr/local/lib/python3.7/dist-packages (from ipython-autotime) (7.9.0)\n",
            "Requirement already satisfied: prompt-toolkit<2.1.0,>=2.0.0 in /usr/local/lib/python3.7/dist-packages (from ipython->ipython-autotime) (2.0.10)\n",
            "Requirement already satisfied: pickleshare in /usr/local/lib/python3.7/dist-packages (from ipython->ipython-autotime) (0.7.5)\n",
            "Requirement already satisfied: jedi>=0.10 in /usr/local/lib/python3.7/dist-packages (from ipython->ipython-autotime) (0.18.1)\n",
            "Requirement already satisfied: pygments in /usr/local/lib/python3.7/dist-packages (from ipython->ipython-autotime) (2.6.1)\n",
            "Requirement already satisfied: backcall in /usr/local/lib/python3.7/dist-packages (from ipython->ipython-autotime) (0.2.0)\n",
            "Requirement already satisfied: pexpect in /usr/local/lib/python3.7/dist-packages (from ipython->ipython-autotime) (4.8.0)\n",
            "Requirement already satisfied: decorator in /usr/local/lib/python3.7/dist-packages (from ipython->ipython-autotime) (4.4.2)\n",
            "Requirement already satisfied: traitlets>=4.2 in /usr/local/lib/python3.7/dist-packages (from ipython->ipython-autotime) (5.1.1)\n",
            "Requirement already satisfied: setuptools>=18.5 in /usr/local/lib/python3.7/dist-packages (from ipython->ipython-autotime) (57.4.0)\n",
            "Requirement already satisfied: parso<0.9.0,>=0.8.0 in /usr/local/lib/python3.7/dist-packages (from jedi>=0.10->ipython->ipython-autotime) (0.8.3)\n",
            "Requirement already satisfied: wcwidth in /usr/local/lib/python3.7/dist-packages (from prompt-toolkit<2.1.0,>=2.0.0->ipython->ipython-autotime) (0.2.5)\n",
            "Requirement already satisfied: six>=1.9.0 in /usr/local/lib/python3.7/dist-packages (from prompt-toolkit<2.1.0,>=2.0.0->ipython->ipython-autotime) (1.15.0)\n",
            "Requirement already satisfied: ptyprocess>=0.5 in /usr/local/lib/python3.7/dist-packages (from pexpect->ipython->ipython-autotime) (0.7.0)\n",
            "time: 3.86 s (started: 2022-10-23 01:14:46 +00:00)\n"
          ]
        }
      ],
      "source": [
        "!pip install ipython-autotime"
      ]
    },
    {
      "cell_type": "code",
      "execution_count": null,
      "metadata": {
        "colab": {
          "base_uri": "https://localhost:8080/"
        },
        "id": "wFiTOA-tU1It",
        "outputId": "61dba15a-349f-4ad0-b4bc-f7d31312f736"
      },
      "outputs": [
        {
          "output_type": "stream",
          "name": "stdout",
          "text": [
            "The autotime extension is already loaded. To reload it, use:\n",
            "  %reload_ext autotime\n",
            "The Cython extension is already loaded. To reload it, use:\n",
            "  %reload_ext Cython\n",
            "time: 6.88 ms (started: 2022-10-23 01:14:50 +00:00)\n"
          ]
        }
      ],
      "source": [
        "%load_ext autotime\n",
        "%load_ext Cython"
      ]
    },
    {
      "cell_type": "code",
      "execution_count": null,
      "metadata": {
        "colab": {
          "base_uri": "https://localhost:8080/"
        },
        "id": "6nsCtyTGU1GQ",
        "outputId": "ffd6728d-343c-4c94-cf04-4b9ff7cdb61f"
      },
      "outputs": [
        {
          "output_type": "stream",
          "name": "stdout",
          "text": [
            "Cloning into 'Procesamiento_Avanzado_de_Imagenes'...\n",
            "remote: Enumerating objects: 381, done.\u001b[K\n",
            "remote: Counting objects: 100% (381/381), done.\u001b[K\n",
            "remote: Compressing objects: 100% (380/380), done.\u001b[K\n",
            "remote: Total 381 (delta 1), reused 376 (delta 1), pack-reused 0\u001b[K\n",
            "Receiving objects: 100% (381/381), 34.01 MiB | 17.97 MiB/s, done.\n",
            "Resolving deltas: 100% (1/1), done.\n",
            "time: 3.55 s (started: 2022-10-23 01:14:50 +00:00)\n"
          ]
        }
      ],
      "source": [
        "# Clonamos el repositorio\n",
        "!git clone https://github.com/BenjaminIrarrazabal/Procesamiento_Avanzado_de_Imagenes"
      ]
    },
    {
      "cell_type": "code",
      "execution_count": null,
      "metadata": {
        "colab": {
          "base_uri": "https://localhost:8080/"
        },
        "id": "ssNWK_h8U1Dv",
        "outputId": "ba559482-8ad8-4d95-ed27-cd079c8e6ec3"
      },
      "outputs": [
        {
          "output_type": "stream",
          "name": "stdout",
          "text": [
            "/content/Procesamiento_Avanzado_de_Imagenes/ImagenesT3/Procesamiento_Avanzado_de_Imagenes/ImagenesT3/Procesamiento_Avanzado_de_Imagenes/ImagenesT3/Procesamiento_Avanzado_de_Imagenes/ImagenesT3/Procesamiento_Avanzado_de_Imagenes/ImagenesT3/Procesamiento_Avanzado_de_Imagenes/ImagenesT3\n",
            "time: 7.5 ms (started: 2022-10-23 01:14:53 +00:00)\n"
          ]
        }
      ],
      "source": [
        "# Nos posicionamos en la carpeta de imágenes de la tarea 4 (cabe destacar que son las mismas que la tarea 3)\n",
        "%cd Procesamiento_Avanzado_de_Imagenes/ImagenesT3"
      ]
    },
    {
      "cell_type": "code",
      "execution_count": null,
      "metadata": {
        "colab": {
          "base_uri": "https://localhost:8080/"
        },
        "id": "33SFyNc2U1BV",
        "outputId": "00a5ca02-6cae-491e-ebdd-89696abe0cd7"
      },
      "outputs": [
        {
          "output_type": "stream",
          "name": "stdout",
          "text": [
            "car_side  chair  pedestrian\n",
            "time: 161 ms (started: 2022-10-23 01:14:53 +00:00)\n"
          ]
        }
      ],
      "source": [
        "# Confirmamos que estén las carpetas\n",
        "!ls"
      ]
    },
    {
      "cell_type": "code",
      "execution_count": null,
      "metadata": {
        "colab": {
          "base_uri": "https://localhost:8080/"
        },
        "id": "ceLkFevpMYUs",
        "outputId": "e1d6a350-cc21-4aa3-dfef-e9e38096c464"
      },
      "outputs": [
        {
          "output_type": "stream",
          "name": "stdout",
          "text": [
            "time: 4.78 ms (started: 2022-10-23 01:14:54 +00:00)\n"
          ]
        }
      ],
      "source": [
        "def redimension(img):\n",
        "  gray_img = cv2.cvtColor(img, cv2.COLOR_BGR2GRAY)\n",
        "  # Se redimensiona la imagen\n",
        "  out_img = cv2.resize(gray_img, dsize=(24, 24), interpolation = cv2.INTER_AREA)\n",
        "  # Se retorna del tipo np.float32\n",
        "  return np.float32(out_img)"
      ]
    },
    {
      "cell_type": "code",
      "execution_count": null,
      "metadata": {
        "colab": {
          "base_uri": "https://localhost:8080/",
          "height": 148
        },
        "id": "ZPTySI6_NCM8",
        "outputId": "c349e90a-a853-4fd5-b6bb-7a92bee11387"
      },
      "outputs": [
        {
          "output_type": "display_data",
          "data": {
            "text/plain": [
              "<PIL.Image.Image image mode=RGB size=36x90 at 0x7F9C8BD88F50>"
            ],
            "image/png": "[encoded data removed]"
          },
          "metadata": {}
        },
        {
          "output_type": "display_data",
          "data": {
            "text/plain": [
              "<PIL.Image.Image image mode=L size=24x24 at 0x7F9C8C6BF510>"
            ],
            "image/png": "[encoded data removed]"
          },
          "metadata": {}
        },
        {
          "output_type": "stream",
          "name": "stdout",
          "text": [
            "time: 15.4 ms (started: 2022-10-23 01:14:54 +00:00)\n"
          ]
        }
      ],
      "source": [
        "img = cv2.imread('pedestrian/1.png')\n",
        "cv2_imshow(img)\n",
        "cv2_imshow(redimension(img))"
      ]
    },
    {
      "cell_type": "markdown",
      "metadata": {
        "id": "DfCxcCJRP43M"
      },
      "source": [
        "# Parte 1. Lectura de imágenes redimensionadas y separación de conjuntos"
      ]
    },
    {
      "cell_type": "code",
      "execution_count": null,
      "metadata": {
        "colab": {
          "base_uri": "https://localhost:8080/"
        },
        "id": "n7qSLeQYiBbg",
        "outputId": "8e899c74-0f54-4c35-c133-d767c22ef7e0"
      },
      "outputs": [
        {
          "output_type": "stream",
          "name": "stdout",
          "text": [
            "time: 457 ms (started: 2022-10-23 01:14:54 +00:00)\n"
          ]
        }
      ],
      "source": [
        "# Se leen las imágenes recorriendo los archivos dentro de las \n",
        "# Se codifica la clase como 1 para personas y como -1 para no personas\n",
        "\n",
        "pedestrian_path = glob.glob('pedestrian//*.png') # nombres en file[11:-4]\n",
        "chair_path = glob.glob('chair//*.jpg') # nombres en file[6:-4]\n",
        "car_path = glob.glob('car_side//*.jpg') # nombres en file[9:-4]\n",
        "\n",
        "Images = [] # Lista que guarda las 370 imágenes, redimensionadas a 24x24\n",
        "Labels = [] # Lista que guarda las etiquetas de las imágenes\n",
        "\n",
        "for file in pedestrian_path:\n",
        "    img = cv2.imread(file)\n",
        "    Images.append(redimension(img)) # se agregan las imagenes redimensionadas\n",
        "    Labels.append(1) # se codifica la clase \n",
        "\n",
        "for file in chair_path:\n",
        "    img = cv2.imread(file)\n",
        "    Images.append(redimension(img)) # se agregan las imagenes redimensionadas\n",
        "    Labels.append(-1) # se codifica la clase \n",
        "\n",
        "for file in car_path:\n",
        "    img = cv2.imread(file)\n",
        "    Images.append(redimension(img)) # se agregan las imagenes redimensionadas\n",
        "    Labels.append(-1) # se codifica la clase "
      ]
    },
    {
      "cell_type": "code",
      "execution_count": null,
      "metadata": {
        "colab": {
          "base_uri": "https://localhost:8080/"
        },
        "id": "x7MJbfu7Ogdt",
        "outputId": "02e040dd-8b6d-480f-bc61-67b60b061099"
      },
      "outputs": [
        {
          "output_type": "stream",
          "name": "stdout",
          "text": [
            "370 370\n",
            "time: 6.14 ms (started: 2022-10-23 01:14:54 +00:00)\n"
          ]
        }
      ],
      "source": [
        "print(len(Images), len(Labels))"
      ]
    },
    {
      "cell_type": "code",
      "execution_count": null,
      "metadata": {
        "colab": {
          "base_uri": "https://localhost:8080/"
        },
        "id": "NC8x39yhPA82",
        "outputId": "ed577fce-f867-4dc4-e248-f7bdb6da4072"
      },
      "outputs": [
        {
          "output_type": "stream",
          "name": "stdout",
          "text": [
            "time: 5 ms (started: 2022-10-23 01:14:54 +00:00)\n"
          ]
        }
      ],
      "source": [
        "# Separamos los conjuntos de entrenamiento y test\n",
        "X_train, X_test, Y_train, Y_test = train_test_split(Images, Labels, test_size=0.20, stratify=Labels, random_state = 20) "
      ]
    },
    {
      "cell_type": "markdown",
      "metadata": {
        "id": "H9hr3mEHP-dj"
      },
      "source": [
        "# Parte 2. Imágenes Integrales"
      ]
    },
    {
      "cell_type": "code",
      "execution_count": null,
      "metadata": {
        "colab": {
          "base_uri": "https://localhost:8080/"
        },
        "id": "sfQhUwTFP086",
        "outputId": "557f2449-4efe-446b-abac-26800f78663d"
      },
      "outputs": [
        {
          "output_type": "stream",
          "name": "stdout",
          "text": [
            "time: 3.43 ms (started: 2022-10-23 01:14:54 +00:00)\n"
          ]
        }
      ],
      "source": [
        "# La función para calcular la imagen integral de una imagen de entrada se realiza mediante el concepto de Raster Scanning, el cual será abordado en el informe.\n",
        "%%cython\n",
        "import cython\n",
        "import numpy as np\n",
        "cimport numpy as np\n",
        "\n",
        "cpdef np.ndarray[np.float32_t, ndim=2] Integral_Image(np.ndarray[np.float32_t, ndim=2] input):\n",
        "  cdef np.ndarray[np.float32_t, ndim=2] output=np.zeros([input.shape[0], input.shape[1]], dtype = np.float32) # definimos la salida (24x24)\n",
        "\n",
        "  cdef int i, j # Enteros para recorrer la imagen de entrada\n",
        "\n",
        "  # Primero, analizamos los casos borde:\n",
        "  # Primera posición\n",
        "  output[0][0] = input[0][0]\n",
        "  # 1ra Fila:\n",
        "  for j in range(1, input.shape[1]): # Recorremos Columnas\n",
        "    output[0][j] = output[0][j-1] + input[0][j]\n",
        "  \n",
        "  # 1ra Columna:\n",
        "  for i in range(1, input.shape[0]): # Recorremos Filas\n",
        "    output[i][0] = output[i-1][0] + input[i][0]\n",
        "  \n",
        "  # Ahora analizamos el resto de los casos, partiendo de la posición [1,1]\n",
        "  for j in range(1, input.shape[1]):\n",
        "    for i in range(1, input.shape[0]):\n",
        "      output[i][j] = output[i][j-1] + output[i-1][j] - output[i-1][j-1] + input[i][j]\n",
        "  return output"
      ]
    },
    {
      "cell_type": "markdown",
      "metadata": {
        "id": "7S8sBAxoKr2h"
      },
      "source": [
        "# Parte 3. Parametrización de máscaras Haar"
      ]
    },
    {
      "cell_type": "code",
      "execution_count": null,
      "metadata": {
        "colab": {
          "base_uri": "https://localhost:8080/"
        },
        "id": "K7nwGtvWKrow",
        "outputId": "8be764f8-4228-4623-c2e8-0b393fa3aacd"
      },
      "outputs": [
        {
          "output_type": "stream",
          "name": "stdout",
          "text": [
            "time: 7.03 ms (started: 2022-10-23 01:14:54 +00:00)\n"
          ]
        }
      ],
      "source": [
        "def Haar_Mask():\n",
        "  # Para cada tipo de máscara existirán 9 diferentes combinaciones de anchos/altos\n",
        "  # para esto, se comenzará en orden de tipos, ie, 0, 1, 2, 3, 4\n",
        "  parameters = []\n",
        "  # A continuación se mencionan las dimensiones de las máscaras (cabe destacar que las máscaras 0, 1 y 4 son de igual tamaño y las 2 y 3 entre sí igual)\n",
        "  # Para las máscaras tipo 0, 1 y 4, se tendrán las siguientes combinaciones de ancho/alto:\n",
        "  # 1.  4x4          5.  8x8          9.  12x12\n",
        "  # 2.  4x8          6.  8x12\n",
        "  # 3.  4x12         7.  12x4\n",
        "  # 4.  8x4          8.  12x8\n",
        "\n",
        "  # Para la máscara tipo 2 y 3, se tendrán las siguientes combinaciones de ancho/alto:\n",
        "  # 1.  3x3          5.  6x6          9.  9x9\n",
        "  # 2.  3x6          6.  6x9\n",
        "  # 3.  3x9          7.  9x3\n",
        "  # 4.  6x3          8.  9x6\n",
        "  \n",
        "  for i in range(0, 24, 3): # se itera 0, 3, 6, 9, 12, ..., 24 (ventana deslizante) para i y j.\n",
        "    for j in range(0, 24, 3):\n",
        "\n",
        "      x1, y1 = i, j # la esquina superior izquierda de la máscara calza con la posición i,j\n",
        "\n",
        "      # se realizarán las 9 combinaciones para ambas polaridades usando todos los tipos, para tener todas las características posibles.\n",
        "      for polaridad in [1, -1]:\n",
        "\n",
        "        for tipo in [0, 1, 4]: # iteramos sobre los tipos que ocupen los mismos anchos/altos\n",
        "          for ancho in [4, 8, 12]:\n",
        "            for alto in [4, 8, 12]:\n",
        "              # se define la esquina inferior derecha de la máscara considerando casos borde\n",
        "              if (x1 == 0) and (y1 == 0):\n",
        "                x2, y2 = x1+ancho-1, y1+alto-1\n",
        "              elif (x1 == 0):\n",
        "                x2, y2 = x1+ancho-1, y1+alto\n",
        "              elif (y1 == 0):\n",
        "                x2, y2 = x1+ancho, y1+alto-1\n",
        "              else:\n",
        "                x2, y2 = x1+ancho, y1+alto \n",
        "\n",
        "              if (x2 <= 23) and (y2 <= 23): #solo si está dentro de los límites (24x24) se utiliza\n",
        "                parameters.append([y1, x1, y2, x2, tipo, polaridad])\n",
        "\n",
        "        for tipo in [2, 3]: # iteramos sobre los tipos que ocupen los mismos anchos/altos\n",
        "          for ancho in [3, 6, 9]:\n",
        "            for alto in [3, 6, 9]:\n",
        "              # se define la esquina inferior derecha de la máscara considerando casos borde\n",
        "              if (x1 == 0) and (y1 == 0):\n",
        "                x2, y2 = x1+ancho-1, y1+alto-1\n",
        "              elif (x1 == 0):\n",
        "                x2, y2 = x1+ancho-1, y1+alto\n",
        "              elif (y1 == 0):\n",
        "                x2, y2 = x1+ancho, y1+alto-1\n",
        "              else:\n",
        "                x2, y2 = x1+ancho, y1+alto\n",
        "\n",
        "              if (x2 <= 23) and (y2 <= 23): #solo si está dentro de los límites (24x24) se utiliza\n",
        "                parameters.append([y1, x1, y2, x2, tipo, polaridad])\n",
        "\n",
        "  return parameters"
      ]
    },
    {
      "cell_type": "markdown",
      "metadata": {
        "id": "nW6ExVh-Ycy7"
      },
      "source": [
        "# Parte 4. Vectores de Características"
      ]
    },
    {
      "cell_type": "code",
      "execution_count": null,
      "metadata": {
        "colab": {
          "base_uri": "https://localhost:8080/"
        },
        "id": "J0dIL8O-KreJ",
        "outputId": "e261306c-5c4c-4fed-fa5b-204460a93d71"
      },
      "outputs": [
        {
          "output_type": "stream",
          "name": "stdout",
          "text": [
            "time: 28 ms (started: 2022-10-23 01:14:54 +00:00)\n"
          ]
        }
      ],
      "source": [
        "def Haar_Features(images, parameters):\n",
        "  Features = [] # este arreglo guardará las características de todas las imágenes\n",
        "  for i in range(len(images)):\n",
        "    feat = [] # esta lista temporal guardará las características de c/imagen para luego guardarla en el arreglo principal\n",
        "    img = images[i] # imagen a la cual se aplicarán todas las máscaras parametrizadas. (debe ser imagen integral)\n",
        "  \n",
        "    for j in range(len(parameters)):\n",
        "      # Para cada máscara parametrizada rescatamos su posición, tipo y polaridad\n",
        "      p = parameters[j]\n",
        "      y1 = p[0]\n",
        "      x1 = p[1]\n",
        "      y2 = p[2]\n",
        "      x2 = p[3]\n",
        "      tipo = p[4]\n",
        "      polaridad = p[5]\n",
        "      # A partir de sus posiciones calculamos el ancho y alto de la máscara, que nos servirá para\n",
        "      # realizar las sumas y restas adecuadas.\n",
        "      if x1 == 0:\n",
        "        alto = x2-x1+1\n",
        "      else:\n",
        "        alto = x2-x1\n",
        "      if y1 == 0:\n",
        "        ancho = y2-y1+1\n",
        "      else:\n",
        "        ancho = y2-y1\n",
        "      # Se analiza el tipo de máscara para saber que operación debe realizar el algoritmo.\n",
        "      # Para cada tipo de máscara se deben analizar los casos bordes, cuando estamos en 0,0 , en 0,j (con j entre 1 y 23)\n",
        "      # en i,0 (con i entre 1 y 23) y finalmente con i,j (cuando ambos son distintos de 0).\n",
        "      if tipo == 0:\n",
        "        if (x1 == 0) and (y1 == 0):\n",
        "          fpos = img[x2][y2-ancho//2]\n",
        "          fneg = img[x2][y2]-fpos\n",
        "        elif (x1 == 0):\n",
        "          fpos = img[x2][y2-ancho//2] - img[x2][y2-ancho]\n",
        "          fneg = img[x2][y2] - img[x2][y2-ancho//2]\n",
        "        elif (y1 == 0):\n",
        "          fpos = img[x2][y2-ancho//2] - img[x1-1][y2-ancho//2]\n",
        "          fneg = img[x2][y2] - img[x2-alto][y2] - fpos\n",
        "        else:\n",
        "          fpos = img[x2][y2-ancho//2] - img[x2][y2-ancho] - img[x1-1][y2-ancho//2] + img[x1-1][y1-1]\n",
        "          fneg = img[x2][y2] - img[x2-alto][y2] - img[x2][y2-ancho//2] + img[x1-1][y2-ancho//2]\n",
        "        f = (fpos - fneg) * polaridad\n",
        "\n",
        "      elif tipo == 1:\n",
        "        if (x1 == 0) and (y1 == 0):\n",
        "          fpos = img[x2][y2] - img[x2-alto//2][y2]\n",
        "          fneg = img[x2-alto//2][y2]\n",
        "        elif (x1 == 0):\n",
        "          fpos = img[x2][y2] - img[x2-alto//2][y2] - img[x2][y2-ancho] + img[x2-alto//2][y2-ancho]\n",
        "          fneg = img[x2-alto//2][y2] - img[x2-alto//2][y2-ancho]\n",
        "        elif (y1 == 0):\n",
        "          fpos = img[x2][y2] - img[x2-alto//2][y2]\n",
        "          fneg = img[x2-alto//2][y2] - img[x2-alto][y2]\n",
        "        else:\n",
        "          fpos = img[x2][y2] - img[x2][y2-ancho] - img[x2-alto//2][y2] + img[x2-alto//2][y2-ancho]\n",
        "          fneg = img[x2-alto//2][y2] - img[x2-alto//2][y2-ancho] - img[x2-alto][y2] + img[x1-1][y1-1]\n",
        "        f = (fpos - fneg) * polaridad\n",
        "\n",
        "      elif tipo == 2:\n",
        "        if (x1 == 0) and (y1 == 0):\n",
        "          fpos = img[x2][y2] - img[x2][y2-ancho//3] + img[x2][y2-2*ancho//3]\n",
        "          fneg = img[x2][y2-ancho//3] - img[x2][y2-2*ancho//3]\n",
        "        elif (x1 == 0):\n",
        "          fpos = img[x2][y2] - img[x2][y2-ancho//3] - img[x2][y2-ancho] + img[x2][y2-2*ancho//3]\n",
        "          fneg = img[x2][y2-ancho//3] - img[x2][y2-2*ancho//3]\n",
        "        elif (y1 == 0):\n",
        "          fneg = img[x2][y2-ancho//3] - img[x2-alto][y2-ancho//3] - img[x2][y2-2*ancho//3] + img[x2-alto][y2-2*ancho//3]\n",
        "          fpos = img[x2][y2] - img[x2-alto][y2] - fneg\n",
        "        else:\n",
        "          fneg = img[x2][y2-ancho//3] - img[x2-alto][y2-ancho//3] - img[x2][y2-2*ancho//3] + img[x2-alto][y2-2*ancho//3]\n",
        "          fpos = img[x2][y2] - img[x2-alto][y2] - img[x2][y2-ancho] + img[x1-1][y1-1] - fneg\n",
        "        f = (fpos - fneg) * polaridad\n",
        "\n",
        "      elif tipo == 3:\n",
        "        if (x1 == 0) and (y1 == 0):\n",
        "          fneg = img[x2-alto//3][y2] - img[x2-2*alto//3][y2]\n",
        "          fpos = img[x2][y2] - fneg\n",
        "        elif (x1 == 0):\n",
        "          fneg = img[x2-alto//3][y2] - img[x2-2*alto//3][y2] - img[x2-alto//3][y2-ancho] + img[x1][y1-1]\n",
        "          fpos = img[x2][y2] - img[x2][y2-ancho] - fneg\n",
        "        elif (y1 == 0):\n",
        "          fneg = img[x2-alto//3][y2] - img[x2-2*alto//3][y2]\n",
        "          fpos = img[x2][y2] - img[x2-alto][y2] - fneg\n",
        "        else:\n",
        "          fneg = img[x2-alto//3][y2] - img[x2-alto//3][y2-ancho] - img[x2-2*alto//3][y2] + img[x2-2*alto//3][y2-ancho]\n",
        "          fpos = img[x2][y2] - img[x2][y2-ancho] - img[x2-alto][y2] + img[x1-1][y1-1] - fneg\n",
        "        f = (fpos - fneg) * polaridad\n",
        "\n",
        "      elif tipo == 4:\n",
        "        if (x1 == 0) and (y1 == 0):\n",
        "          fneg = img[x2-alto//2][y2] - 2*img[x2-alto//2][y2-ancho//2] + img[x2][y2-ancho//2]\n",
        "          fpos = img[x2][y2] - fneg\n",
        "        elif (x1 == 0):\n",
        "          fneg = img[x2-alto//2][y2] - 2*img[x2-alto//2][y2-ancho//2] + img[x2][y2-ancho//2] - img[x2][y2-ancho] + img[x2-alto//2][y2-ancho]\n",
        "          fpos = img[x2][y2] - img[x2][y2-ancho] - fneg\n",
        "        elif (y1 == 0):\n",
        "          fneg = img[x2][y2-ancho//2] - 2*img[x2-alto//2][y2-ancho//2] + img[x2-alto//2][y2] - img[x2-alto][y2] + img[x2-alto][y2-ancho//2]\n",
        "          fpos = img[x2][y2] - img[x2-alto][y2] - fneg\n",
        "        else:\n",
        "          fneg = img[x2][y2-ancho//2] - img[x2][y2-ancho] - 2*img[x2-alto//2][y2-ancho//2] + img[x2-alto//2][y2-ancho] + img[x2-alto//2][y2] - img[x2-alto][y2] + img[x2-alto][y2-ancho//2]\n",
        "          fpos = img[x2][y2] - img[x2][y2-ancho] - img[x2-alto][y2] + img[x1-1][y1-1] - fneg\n",
        "        f = (fpos - fneg) * polaridad\n",
        "      # Agregamos la característica a la lista variable\n",
        "      feat.append(f)\n",
        "    # cuando ya recorremos todos los parámetros para una imagen guardamos el vector y seguimos con la siguiente\n",
        "    Features.append(feat)\n",
        "\n",
        "  return np.array(Features)"
      ]
    },
    {
      "cell_type": "markdown",
      "metadata": {
        "id": "q1NbeOhBcozu"
      },
      "source": [
        "# Parte 5. Clasificador Adaboost"
      ]
    },
    {
      "cell_type": "markdown",
      "metadata": {
        "id": "V6UOB1LActbV"
      },
      "source": [
        "## 5.a. Base de Clasificadores Débiles h(x,u)"
      ]
    },
    {
      "cell_type": "code",
      "execution_count": null,
      "metadata": {
        "colab": {
          "base_uri": "https://localhost:8080/"
        },
        "id": "IRjQN_FleKfz",
        "outputId": "d5289140-b6e9-4f80-f7f3-591e817c5c92"
      },
      "outputs": [
        {
          "output_type": "stream",
          "name": "stdout",
          "text": [
            "time: 1.47 ms (started: 2022-10-23 01:14:54 +00:00)\n"
          ]
        }
      ],
      "source": [
        "def h(x,u):\n",
        "  # La función h(x,u) busca generar un clasificador débil mediante un umbral definido (u)\n",
        "  # Sea x un arreglo:\n",
        "  # x > u y x < u, devuelven un arreglo con True en las posiciones que cumplen la condición\n",
        "  lpos = x > u \n",
        "  lneg = x <= u\n",
        "  # Luego, al multiplicar estos arreglos por 1 o -1, los valores True toman este factor y los False quedan en 0\n",
        "  pos = lpos * 1\n",
        "  neg = lneg * -1\n",
        "  # Finalmente, si sumamos ambos arreglos (posición a posición)\n",
        "  # obtenemos un arreglo con -1 cuando x_i < u y 1 cuando x_i > u.\n",
        "  return pos + neg"
      ]
    },
    {
      "cell_type": "markdown",
      "metadata": {
        "id": "pcormmN9c3yV"
      },
      "source": [
        "## 5.b. Mejor umbral para clasificador débil"
      ]
    },
    {
      "cell_type": "code",
      "execution_count": null,
      "metadata": {
        "colab": {
          "base_uri": "https://localhost:8080/"
        },
        "id": "-Hi4wgx0f2YY",
        "outputId": "dcdf9e51-7fca-4e87-d11a-c35b68f1226b"
      },
      "outputs": [
        {
          "output_type": "stream",
          "name": "stdout",
          "text": [
            "time: 4.08 ms (started: 2022-10-23 01:14:54 +00:00)\n"
          ]
        }
      ],
      "source": [
        "def Best_U(X, y, w):\n",
        "  # X es la matriz de características, en el caso del conjunto de train, será de 296 x 3030\n",
        "  # y es el vector de clases, tendrá valores 1 o -1 según la imagen contenga una persona u otro. (largo 296)\n",
        "  # w es el vector de pesos de largo 296\n",
        "  # h(x,u) se construye con la función anterior\n",
        "  best_u = [] # esta lista guardará los mejores u para cada iteración.\n",
        "  best_r = [] # esta lista guardará el mejor r para cada iteración.\n",
        "  for j in range(X.shape[1]): # Recorremos las columnas de la matriz de características\n",
        "    Xcol = X[:,j] # Tomamos cada columna (ie, cada característica)\n",
        "    # Tomamos el valor mínimo y máximo\n",
        "    minX = min(Xcol)\n",
        "    maxX = max(Xcol)\n",
        "    # En cada iteración generamos una lista de r, tendrá 10 valores y luego sacaremos el mejor de estos.\n",
        "    r = []\n",
        "    # tendremos 10 u para cada iteración, luego guardaremos el mejor en best_u\n",
        "    u = np.linspace(minX, maxX, 10)\n",
        "\n",
        "    # Recorremos los 10 valores de u y guardamos los r correspondientes\n",
        "    for k in range(len(u)):\n",
        "      r.append(np.sum(w * y * h(Xcol, u[k])))\n",
        "    # buscamos el r máximo para cada característica\n",
        "    maxR = max(r)\n",
        "    ind = r.index(maxR)\n",
        "    # guardamos el mejor u y r en la lista correspondiente\n",
        "    best_u.append(u[ind])\n",
        "    best_r.append(maxR)\n",
        "    \n",
        "  return best_u, best_r"
      ]
    },
    {
      "cell_type": "markdown",
      "metadata": {
        "id": "uCEJ1wgvdEqa"
      },
      "source": [
        "## 5.c. Entrenamiento Adaboost"
      ]
    },
    {
      "cell_type": "code",
      "source": [
        "def a_t(r):\n",
        "  return 0.5 * np.log((1+r)/(1-r))\n",
        "\n",
        "def Train_Adaboost(X, y, T = 10):\n",
        "  N = X.shape[0] # tomamos el valor de N\n",
        "  # inicializamos el vector de pesos\n",
        "  w = np.ones(N) * (1/N)\n",
        "  # listas que guardan los elementos que permiten construir y evaluar el clasificador fuerte\n",
        "  at = np.zeros(T)\n",
        "  it = []\n",
        "  ut = np.zeros(T)\n",
        "  ht = []\n",
        "\n",
        "  # iteración principal\n",
        "  for t in range(T):\n",
        "    U, R = Best_U(X, y, w)\n",
        "\n",
        "    alphas = []\n",
        "    for i in range(len(R)):\n",
        "      alphas.append(a_t(R[i]))\n",
        "    rmax = max(R)\n",
        "    indmax = R.index(rmax) # este será el índice del elemento a guardar\n",
        "\n",
        "    # guardamos los elementos necesarios\n",
        "    at[t] = alphas[indmax]\n",
        "    it.append(indmax)\n",
        "    ut[t] = U[indmax]\n",
        "    ht.append(h(X[:,it[t]], ut[t]))\n",
        "  \n",
        "    # Actualizamos y normalizamos los pesos\n",
        "    w = w * np.exp(-1 * at[t] * y * ht[t])\n",
        "    w = w / np.sum(w)\n",
        "\n",
        "    # se realiza la siguiente iteración...\n",
        "\n",
        "  return at, np.array(it), ut"
      ],
      "metadata": {
        "id": "XOLFni-Zg5A-",
        "colab": {
          "base_uri": "https://localhost:8080/"
        },
        "outputId": "25e9eb69-34cb-4730-b74e-a599944f4ed1"
      },
      "execution_count": null,
      "outputs": [
        {
          "output_type": "stream",
          "name": "stdout",
          "text": [
            "time: 9.43 ms (started: 2022-10-23 01:14:54 +00:00)\n"
          ]
        }
      ]
    },
    {
      "cell_type": "markdown",
      "metadata": {
        "id": "75MhZNj_dI8j"
      },
      "source": [
        "## 5.d. Clasificación"
      ]
    },
    {
      "cell_type": "code",
      "source": [
        "def Adaboost_classify(X, it, ut, at):\n",
        "  # Se realiza la clasificación utilizando la función del enunciado\n",
        "  H = np.sign(np.sum(at * h(X[it], ut)))\n",
        "  return H"
      ],
      "metadata": {
        "colab": {
          "base_uri": "https://localhost:8080/"
        },
        "id": "3tyoTh81xx4q",
        "outputId": "fc460a10-6668-42b6-b682-1964eac1fffb"
      },
      "execution_count": null,
      "outputs": [
        {
          "output_type": "stream",
          "name": "stdout",
          "text": [
            "time: 1.32 ms (started: 2022-10-23 01:14:54 +00:00)\n"
          ]
        }
      ]
    },
    {
      "cell_type": "code",
      "source": [
        "# Classify_all permite ingresar una matriz de características y clasificar todo directamente\n",
        "def Classify_all(X, it, ut, at):\n",
        "  pred = []\n",
        "  for i in range(X.shape[0]):\n",
        "    pred.append(Adaboost_classify(X[i], it, ut, at))\n",
        "  return np.array(pred)"
      ],
      "metadata": {
        "colab": {
          "base_uri": "https://localhost:8080/"
        },
        "id": "IPJvSarSvCX9",
        "outputId": "8c8a0cc8-51e2-48e1-d444-8e5c5ae4dff5"
      },
      "execution_count": null,
      "outputs": [
        {
          "output_type": "stream",
          "name": "stdout",
          "text": [
            "time: 1.59 ms (started: 2022-10-23 01:14:54 +00:00)\n"
          ]
        }
      ]
    },
    {
      "cell_type": "markdown",
      "metadata": {
        "id": "Vm4V9Im1dMUy"
      },
      "source": [
        "# Parte 6. Cálculo de imágenes integrales y características Haar"
      ]
    },
    {
      "cell_type": "code",
      "source": [
        "# Con las siguientes iteraciones se calcula la imagen integral de la imagen redimensionada \n",
        "for img in X_train:\n",
        "  img = Integral_Image(img)\n",
        "for img in X_test:\n",
        "  img = Integral_Image(img)\n",
        "\n",
        "# Creamos arreglo de máscaras parametrizadas\n",
        "parameters = Haar_Mask()\n",
        "\n",
        "# Extraemos características\n",
        "X_train_Features = Haar_Features(X_train, parameters)\n",
        "X_test_Features = Haar_Features(X_test, parameters)"
      ],
      "metadata": {
        "colab": {
          "base_uri": "https://localhost:8080/"
        },
        "id": "6cOe8-6W1wgs",
        "outputId": "cca9d9b0-cca1-4834-82c2-8e010c5e8a5b"
      },
      "execution_count": null,
      "outputs": [
        {
          "output_type": "stream",
          "name": "stdout",
          "text": [
            "time: 17.8 s (started: 2022-10-23 01:14:54 +00:00)\n"
          ]
        }
      ]
    },
    {
      "cell_type": "code",
      "source": [
        "# Se realiza un arreglo de numpy para no tener errores\n",
        "Y_train = np.array(Y_train)\n",
        "Y_test = np.array(Y_test)"
      ],
      "metadata": {
        "colab": {
          "base_uri": "https://localhost:8080/"
        },
        "id": "Wck-FJSk9Z7f",
        "outputId": "4003f08f-010b-4ded-c00d-97afca7fe491"
      },
      "execution_count": null,
      "outputs": [
        {
          "output_type": "stream",
          "name": "stdout",
          "text": [
            "time: 1.08 ms (started: 2022-10-23 01:15:12 +00:00)\n"
          ]
        }
      ]
    },
    {
      "cell_type": "markdown",
      "metadata": {
        "id": "6u--IJ5BdVBv"
      },
      "source": [
        "# Parte 7. Entrenar clasificador Adaboost (T = 10)"
      ]
    },
    {
      "cell_type": "code",
      "source": [
        "# Entrenamiento:\n",
        "at, it, ut = Train_Adaboost(X_train_Features, Y_train)"
      ],
      "metadata": {
        "colab": {
          "base_uri": "https://localhost:8080/"
        },
        "id": "um7E6yEE2_Ho",
        "outputId": "a3f82d85-0032-4564-ea1d-31f630112c97"
      },
      "execution_count": null,
      "outputs": [
        {
          "output_type": "stream",
          "name": "stdout",
          "text": [
            "time: 9.52 s (started: 2022-10-23 01:15:12 +00:00)\n"
          ]
        }
      ]
    },
    {
      "cell_type": "code",
      "source": [
        "pred_train = Classify_all(X_train_Features, it, ut, at)\n",
        "pred_test = Classify_all(X_test_Features, it, ut, at)"
      ],
      "metadata": {
        "colab": {
          "base_uri": "https://localhost:8080/"
        },
        "id": "c_ZfZVaMC2-d",
        "outputId": "3b4a96bb-93cb-48e4-b0d2-7c9865c2dbd7"
      },
      "execution_count": null,
      "outputs": [
        {
          "output_type": "stream",
          "name": "stdout",
          "text": [
            "time: 13.7 ms (started: 2022-10-23 01:15:22 +00:00)\n"
          ]
        }
      ]
    },
    {
      "cell_type": "markdown",
      "metadata": {
        "id": "GBXkh7twdmOb"
      },
      "source": [
        "## 7.a. Evaluación sobre conjunto de entrenamiento"
      ]
    },
    {
      "cell_type": "code",
      "source": [
        "sn.set()\n",
        "f,ax=plt.subplots()\n",
        "cm = confusion_matrix(Y_train, pred_train, normalize = 'true')\n",
        "sn.heatmap(cm,annot=True,ax=ax, cmap = 'Blues',xticklabels = ['persona', 'no persona'], yticklabels = ['persona', 'no persona']) \n",
        "\n",
        "ax.set_title('Matriz de confusión Conjunto Train') \n",
        "ax.set_xlabel('Predicted Labels') \n",
        "ax.set_ylabel('True Labels') "
      ],
      "metadata": {
        "colab": {
          "base_uri": "https://localhost:8080/",
          "height": 336
        },
        "id": "8dcgsxYbxtjz",
        "outputId": "8c3da44f-f714-46f9-90e3-a3462cb19a8a"
      },
      "execution_count": null,
      "outputs": [
        {
          "output_type": "execute_result",
          "data": {
            "text/plain": [
              "Text(30.5, 0.5, 'True Labels')"
            ]
          },
          "metadata": {},
          "execution_count": 196
        },
        {
          "output_type": "display_data",
          "data": {
            "text/plain": [
              "<Figure size 432x288 with 2 Axes>"
            ],
            "image/png": "[encoded data removed]"
          },
          "metadata": {}
        },
        {
          "output_type": "stream",
          "name": "stdout",
          "text": [
            "time: 244 ms (started: 2022-10-23 01:15:22 +00:00)\n"
          ]
        }
      ]
    },
    {
      "cell_type": "code",
      "source": [
        "print('Accuracy Conjunto Train: ', accuracy_score(Y_train, pred_train))"
      ],
      "metadata": {
        "colab": {
          "base_uri": "https://localhost:8080/"
        },
        "id": "Y46R7q_zx_tB",
        "outputId": "747bf2b5-8b25-4e05-bddc-d9769fcc314b"
      },
      "execution_count": null,
      "outputs": [
        {
          "output_type": "stream",
          "name": "stdout",
          "text": [
            "Accuracy Conjunto Train:  0.8614864864864865\n",
            "time: 1.5 ms (started: 2022-10-23 01:15:22 +00:00)\n"
          ]
        }
      ]
    },
    {
      "cell_type": "markdown",
      "metadata": {
        "id": "g1O1ZwcJdqUZ"
      },
      "source": [
        "## 7.b. Evaluación sobre conjunto de prueba"
      ]
    },
    {
      "cell_type": "code",
      "source": [
        "sn.set()\n",
        "f,ax=plt.subplots()\n",
        "cm = confusion_matrix(Y_test, pred_test, normalize = 'true')\n",
        "sn.heatmap(cm,annot=True,ax=ax, cmap = 'Blues',xticklabels = ['persona', 'no persona'], yticklabels = ['persona', 'no persona'])\n",
        "\n",
        "ax.set_title('Matriz de confusión Conjunto Test') \n",
        "ax.set_xlabel('Predicted Labels') \n",
        "ax.set_ylabel('True Labels') "
      ],
      "metadata": {
        "colab": {
          "base_uri": "https://localhost:8080/",
          "height": 336
        },
        "id": "dtLc9QRvyHma",
        "outputId": "116b93b4-26ef-4f14-c9a9-37924732ad99"
      },
      "execution_count": null,
      "outputs": [
        {
          "output_type": "execute_result",
          "data": {
            "text/plain": [
              "Text(30.5, 0.5, 'True Labels')"
            ]
          },
          "metadata": {},
          "execution_count": 198
        },
        {
          "output_type": "display_data",
          "data": {
            "text/plain": [
              "<Figure size 432x288 with 2 Axes>"
            ],
            "image/png": "[encoded data removed]"
          },
          "metadata": {}
        },
        {
          "output_type": "stream",
          "name": "stdout",
          "text": [
            "time: 243 ms (started: 2022-10-23 01:15:22 +00:00)\n"
          ]
        }
      ]
    },
    {
      "cell_type": "code",
      "source": [
        "print('Accuracy Conjunto Test: ', accuracy_score(Y_test, pred_test))"
      ],
      "metadata": {
        "colab": {
          "base_uri": "https://localhost:8080/"
        },
        "id": "PGqAXENDyIvT",
        "outputId": "99c3e628-5dfd-4a51-9dc8-ff05c25c4444"
      },
      "execution_count": null,
      "outputs": [
        {
          "output_type": "stream",
          "name": "stdout",
          "text": [
            "Accuracy Conjunto Test:  0.7837837837837838\n",
            "time: 3.94 ms (started: 2022-10-23 01:15:22 +00:00)\n"
          ]
        }
      ]
    },
    {
      "cell_type": "markdown",
      "metadata": {
        "id": "DdfKxGy7dZ2w"
      },
      "source": [
        "# Parte 8. Entrenamiento usando T = 5 y T = 20"
      ]
    },
    {
      "cell_type": "markdown",
      "source": [
        "## Entrenamiento con T = 5"
      ],
      "metadata": {
        "id": "GM2jALvezRz0"
      }
    },
    {
      "cell_type": "code",
      "source": [
        "# Entrenamiento:\n",
        "at, it, ut = Train_Adaboost(X_train_Features, Y_train, T = 5)\n",
        "pred_train = Classify_all(X_train_Features, it, ut, at)\n",
        "pred_test = Classify_all(X_test_Features, it, ut, at)\n",
        "sn.set()\n",
        "f,ax=plt.subplots()\n",
        "cm = confusion_matrix(Y_train, pred_train, normalize = 'true')\n",
        "sn.heatmap(cm,annot=True,ax=ax, cmap = 'Blues',xticklabels = ['persona', 'no persona'], yticklabels = ['persona', 'no persona']) \n",
        "\n",
        "ax.set_title('Matriz de confusión Conjunto Train') \n",
        "ax.set_xlabel('Predicted Labels') \n",
        "ax.set_ylabel('True Labels') \n",
        "print('Accuracy Conjunto Train: ', accuracy_score(Y_train, pred_train))\n",
        "\n",
        "sn.set()\n",
        "f,ax=plt.subplots()\n",
        "cm = confusion_matrix(Y_test, pred_test, normalize = 'true')\n",
        "sn.heatmap(cm,annot=True,ax=ax, cmap = 'Blues',xticklabels = ['persona', 'no persona'], yticklabels = ['persona', 'no persona'])\n",
        "ax.set_title('Matriz de confusión Conjunto Test') \n",
        "ax.set_xlabel('Predicted Labels') \n",
        "ax.set_ylabel('True Labels') \n",
        "print('Accuracy Conjunto Test: ', accuracy_score(Y_test, pred_test))"
      ],
      "metadata": {
        "colab": {
          "base_uri": "https://localhost:8080/",
          "height": 637
        },
        "id": "CXw-aqudzVE7",
        "outputId": "cbfb3ef0-10d1-407a-a0c8-0e70839ea683"
      },
      "execution_count": null,
      "outputs": [
        {
          "output_type": "stream",
          "name": "stdout",
          "text": [
            "Accuracy Conjunto Train:  0.7905405405405406\n",
            "Accuracy Conjunto Test:  0.8378378378378378\n"
          ]
        },
        {
          "output_type": "display_data",
          "data": {
            "text/plain": [
              "<Figure size 432x288 with 2 Axes>"
            ],
            "image/png": "[encoded data removed]"
          },
          "metadata": {}
        },
        {
          "output_type": "display_data",
          "data": {
            "text/plain": [
              "<Figure size 432x288 with 2 Axes>"
            ],
            "image/png": "[encoded data removed]"
          },
          "metadata": {}
        },
        {
          "output_type": "stream",
          "name": "stdout",
          "text": [
            "time: 4.93 s (started: 2022-10-23 01:15:22 +00:00)\n"
          ]
        }
      ]
    },
    {
      "cell_type": "markdown",
      "source": [
        "## Entrenamiento con T = 20"
      ],
      "metadata": {
        "id": "1PBU1ak0zo3b"
      }
    },
    {
      "cell_type": "code",
      "source": [
        "# Entrenamiento:\n",
        "at, it, ut = Train_Adaboost(X_train_Features, Y_train, T = 20)\n",
        "pred_train = Classify_all(X_train_Features, it, ut, at)\n",
        "pred_test = Classify_all(X_test_Features, it, ut, at)\n",
        "sn.set()\n",
        "f,ax=plt.subplots()\n",
        "cm = confusion_matrix(Y_train, pred_train, normalize = 'true')\n",
        "sn.heatmap(cm,annot=True,ax=ax, cmap = 'Blues',xticklabels = ['persona', 'no persona'], yticklabels = ['persona', 'no persona']) \n",
        "\n",
        "ax.set_title('Matriz de confusión Conjunto Train') \n",
        "ax.set_xlabel('Predicted Labels') \n",
        "ax.set_ylabel('True Labels') \n",
        "print('Accuracy Conjunto Train: ', accuracy_score(Y_train, pred_train))\n",
        "\n",
        "sn.set()\n",
        "f,ax=plt.subplots()\n",
        "cm = confusion_matrix(Y_test, pred_test, normalize = 'true')\n",
        "sn.heatmap(cm,annot=True,ax=ax, cmap = 'Blues',xticklabels = ['persona', 'no persona'], yticklabels = ['persona', 'no persona'])\n",
        "ax.set_title('Matriz de confusión Conjunto Test') \n",
        "ax.set_xlabel('Predicted Labels') \n",
        "ax.set_ylabel('True Labels') \n",
        "print('Accuracy Conjunto Test: ', accuracy_score(Y_test, pred_test))"
      ],
      "metadata": {
        "colab": {
          "base_uri": "https://localhost:8080/",
          "height": 637
        },
        "id": "U5WLSPGKzrLX",
        "outputId": "f5b22e9d-e3b9-45ff-809c-ee047c80801e"
      },
      "execution_count": null,
      "outputs": [
        {
          "output_type": "stream",
          "name": "stdout",
          "text": [
            "Accuracy Conjunto Train:  0.9391891891891891\n",
            "Accuracy Conjunto Test:  0.7297297297297297\n"
          ]
        },
        {
          "output_type": "display_data",
          "data": {
            "text/plain": [
              "<Figure size 432x288 with 2 Axes>"
            ],
            "image/png": "[encoded data removed]"
          },
          "metadata": {}
        },
        {
          "output_type": "display_data",
          "data": {
            "text/plain": [
              "<Figure size 432x288 with 2 Axes>"
            ],
            "image/png": "[encoded data removed]"
          },
          "metadata": {}
        },
        {
          "output_type": "stream",
          "name": "stdout",
          "text": [
            "time: 18.1 s (started: 2022-10-23 01:15:27 +00:00)\n"
          ]
        }
      ]
    },
    {
      "cell_type": "markdown",
      "metadata": {
        "id": "HlZNMKvxdz66"
      },
      "source": [
        "# Parte 10. Ampliar imágenes y dibujar las 5 mejores máscaras."
      ]
    },
    {
      "cell_type": "code",
      "source": [
        "def redimension2(img):\n",
        "  # Se redimensiona la imagen\n",
        "  out_img = cv2.resize(img, dsize=(192, 192), interpolation = cv2.INTER_AREA)\n",
        "  # Se retorna del tipo np.float32\n",
        "  return np.float32(out_img)"
      ],
      "metadata": {
        "colab": {
          "base_uri": "https://localhost:8080/"
        },
        "id": "jFgfY16N4b7K",
        "outputId": "646fa630-ce5f-4f3c-ed3a-04bfae6dc006"
      },
      "execution_count": null,
      "outputs": [
        {
          "output_type": "stream",
          "name": "stdout",
          "text": [
            "time: 860 µs (started: 2022-10-23 01:15:45 +00:00)\n"
          ]
        }
      ]
    },
    {
      "cell_type": "code",
      "source": [
        "def DrawMask(img, mask_p): \n",
        "  # los indices se amplifican por 8 ya que 192/24 = 8, ie, ampliamos la imagen 8 veces y por ende las máscaras igual para ser dibujadas\n",
        "  y1 = mask_p[0] * 8\n",
        "  x1 = mask_p[1] * 8\n",
        "  y2 = mask_p[2] * 8\n",
        "  x2 = mask_p[3] * 8\n",
        "  tipo = mask_p[4]\n",
        "  polaridad = mask_p[5]\n",
        "  # A partir de sus posiciones calculamos el ancho y alto de la máscara, que nos servirá para\n",
        "  # realizar las sumas y restas adecuadas.\n",
        "  if x1 == 0:\n",
        "    alto = x2-x1+1\n",
        "  else:\n",
        "    alto = x2-x1\n",
        "  if y1 == 0:\n",
        "    ancho = y2-y1+1\n",
        "  else:\n",
        "    ancho = y2-y1\n",
        "  # colores, rojo para el lado positivo, azul para el negativo de la máscara\n",
        "  cp = (0,0,255)\n",
        "  cn = (255,0,0)\n",
        "  t = 1 # espesor\n",
        "  if tipo == 0:\n",
        "    if polaridad == 1:\n",
        "      img = cv2.rectangle(img, (x1,y1), (x2, y2-ancho//2), cp, t)\n",
        "      img = cv2.rectangle(img, (x1,y1+ancho//2), (x2, y2), cn, t)\n",
        "    else:\n",
        "      img = cv2.rectangle(img, (x1,y1), (x2, y2-ancho//2), cn, t)\n",
        "      img = cv2.rectangle(img, (x1,y1+ancho//2), (x2, y2), cp, t)\n",
        "\n",
        "  elif tipo == 1:\n",
        "    if polaridad == 1:\n",
        "      img = cv2.rectangle(img, (x1,y1), (x2-alto//2,y2), cn, t)\n",
        "      img = cv2.rectangle(img, (x1+alto//2, y1), (x2,y2), cp, t)\n",
        "    else:\n",
        "      img = cv2.rectangle(img, (x1,y1), (x2-alto//2,y2), cp, t)\n",
        "      img = cv2.rectangle(img, (x1+alto//2, y1), (x2,y2), cn, t)\n",
        "\n",
        "  elif tipo == 2:\n",
        "    if polaridad == 1:\n",
        "      img = cv2.rectangle(img, (x1,y1), (x2,y2-2*ancho//3), cp, t)\n",
        "      img = cv2.rectangle(img, (x1,y1+ancho//3), (x2,y2-ancho//3), cn, t)\n",
        "      img = cv2.rectangle(img, (x1,y1+2*ancho//3), (x2,y2), cp, t)\n",
        "    else:\n",
        "      img = cv2.rectangle(img, (x1,y1), (x2,y2-2*ancho//3), cn, t)\n",
        "      img = cv2.rectangle(img, (x1,y1+ancho//3), (x2,y2-ancho//3), cp, t)\n",
        "      img = cv2.rectangle(img, (x1,y1+2*ancho//3), (x2,y2), cn, t)\n",
        "\n",
        "  elif tipo == 3:\n",
        "    if polaridad == 1:\n",
        "      img = cv2.rectangle(img, (x1,y1), (x2-2*alto//3, y2), cp, t)\n",
        "      img = cv2.rectangle(img, (x1+alto//3, y1), (x2-alto//3, y2), cn, t)\n",
        "      img = cv2.rectangle(img, (x1+2*alto//3, y1), (x2,y2), cp, t)\n",
        "    else:\n",
        "      img = cv2.rectangle(img, (x1,y1), (x2-2*alto//3, y2), cn, t)\n",
        "      img = cv2.rectangle(img, (x1+alto//3, y1), (x2-alto//3, y2), cp, t)\n",
        "      img = cv2.rectangle(img, (x1+2*alto//3, y1), (x2,y2), cn, t)\n",
        "\n",
        "  elif tipo == 4:\n",
        "    if polaridad == 1:\n",
        "      img = cv2.rectangle(img, (x1,y1), (x1+alto//2-1,y1+ancho//2-1), cp, t)\n",
        "      img = cv2.rectangle(img, (x1+alto//2, y1), (x1+alto-1, y1+ancho//2-1), cn, t)\n",
        "      img = cv2.rectangle(img, (x1, y1+ancho//2), (x2-alto//2, y2), cn, t)\n",
        "      img = cv2.rectangle(img, (x1+alto//2,y1+ancho//2), (x2,y2), cp, t)\n",
        "    else:\n",
        "      img = cv2.rectangle(img, (x1,y1), (x1+alto//2-1,y1+ancho//2-1), cn, t)\n",
        "      img = cv2.rectangle(img, (x1+alto//2, y1), (x1+alto-1, y1+ancho//2-1), cp, t)\n",
        "      img = cv2.rectangle(img, (x1, y1+ancho//2), (x2-alto//2, y2), cp, t)\n",
        "      img = cv2.rectangle(img, (x1+alto//2,y1+ancho//2), (x2,y2), cn, t)\n",
        "  \n",
        "  return img"
      ],
      "metadata": {
        "id": "NiWQ2xyVUe7s",
        "colab": {
          "base_uri": "https://localhost:8080/"
        },
        "outputId": "8a249b6e-5ab2-425a-c80f-655748f4e402"
      },
      "execution_count": null,
      "outputs": [
        {
          "output_type": "stream",
          "name": "stdout",
          "text": [
            "time: 12.5 ms (started: 2022-10-23 01:15:45 +00:00)\n"
          ]
        }
      ]
    },
    {
      "cell_type": "code",
      "source": [
        "at, it, ut = Train_Adaboost(X_train_Features, Y_train)"
      ],
      "metadata": {
        "colab": {
          "base_uri": "https://localhost:8080/"
        },
        "id": "U5r_VACO-su9",
        "outputId": "b4dcb956-3da8-426b-dfc8-1b1f190ed532"
      },
      "execution_count": null,
      "outputs": [
        {
          "output_type": "stream",
          "name": "stdout",
          "text": [
            "time: 8.81 s (started: 2022-10-23 01:15:45 +00:00)\n"
          ]
        }
      ]
    },
    {
      "cell_type": "code",
      "source": [
        "iMasks = it[0:5] # guardamos los primeros 5 indices\n",
        "\n",
        "\n",
        "# Se toman 3 imágenes\n",
        "img1 = cv2.imread('pedestrian/1.png')\n",
        "img2 = cv2.imread('pedestrian/10.png')\n",
        "img3 = cv2.imread('pedestrian/12.png')\n",
        "\n",
        "img1 = redimension2(img1)\n",
        "img2 = redimension2(img2)\n",
        "img3 = redimension2(img3)\n",
        "\n",
        "for index in iMasks:\n",
        "  DrawMask(img1, parameters[index])\n",
        "\n",
        "for index in iMasks:\n",
        "  DrawMask(img2, parameters[index])\n",
        "\n",
        "for index in iMasks:\n",
        "  DrawMask(img3, parameters[index])\n",
        "\n",
        "cv2_imshow(img1)\n",
        "cv2_imshow(img2)\n",
        "cv2_imshow(img3)"
      ],
      "metadata": {
        "colab": {
          "base_uri": "https://localhost:8080/",
          "height": 610
        },
        "id": "QdaKp8hC4Qmp",
        "outputId": "932c3198-6708-4f08-a6c0-42261379e958"
      },
      "execution_count": null,
      "outputs": [
        {
          "output_type": "display_data",
          "data": {
            "text/plain": [
              "<PIL.Image.Image image mode=RGB size=192x192 at 0x7F9C895DFA50>"
            ],
            "image/png": "[encoded data removed]"
          },
          "metadata": {}
        },
        {
          "output_type": "display_data",
          "data": {
            "text/plain": [
              "<PIL.Image.Image image mode=RGB size=192x192 at 0x7F9C895DFA50>"
            ],
            "image/png": "[encoded data removed]"
          },
          "metadata": {}
        },
        {
          "output_type": "display_data",
          "data": {
            "text/plain": [
              "<PIL.Image.Image image mode=RGB size=192x192 at 0x7F9C895DF750>"
            ],
            "image/png": "[encoded data removed]"
          },
          "metadata": {}
        },
        {
          "output_type": "stream",
          "name": "stdout",
          "text": [
            "time: 104 ms (started: 2022-10-23 02:51:35 +00:00)\n"
          ]
        }
      ]
    }
  ],
  "metadata": {
    "colab": {
      "collapsed_sections": [],
      "provenance": []
    },
    "kernelspec": {
      "display_name": "Python 3",
      "name": "python3"
    },
    "language_info": {
      "name": "python"
    }
  },
  "nbformat": 4,
  "nbformat_minor": 0
}