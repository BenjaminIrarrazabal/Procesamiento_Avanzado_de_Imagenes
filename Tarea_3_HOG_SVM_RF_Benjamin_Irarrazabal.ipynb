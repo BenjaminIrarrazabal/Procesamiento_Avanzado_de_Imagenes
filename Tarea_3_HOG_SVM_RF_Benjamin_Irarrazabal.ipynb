{
  "nbformat": 4,
  "nbformat_minor": 0,
  "metadata": {
    "colab": {
      "provenance": [],
      "collapsed_sections": []
    },
    "kernelspec": {
      "name": "python3",
      "display_name": "Python 3"
    },
    "language_info": {
      "name": "python"
    }
  },
  "cells": [
    {
      "cell_type": "code",
      "source": [
        "import numpy as np\n",
        "import cv2\n",
        "from google.colab.patches import cv2_imshow\n",
        "import matplotlib.pyplot as plt\n",
        "import glob\n",
        "import pandas as pd"
      ],
      "metadata": {
        "id": "4q5z-3Q9HOVx",
        "colab": {
          "base_uri": "https://localhost:8080/"
        },
        "outputId": "04214092-164b-40da-95f3-83c9b1b6dd07"
      },
      "execution_count": null,
      "outputs": [
        {
          "output_type": "stream",
          "name": "stdout",
          "text": [
            "time: 1.12 ms (started: 2022-10-07 19:59:03 +00:00)\n"
          ]
        }
      ]
    },
    {
      "cell_type": "code",
      "execution_count": null,
      "metadata": {
        "colab": {
          "base_uri": "https://localhost:8080/"
        },
        "id": "bYvWlI1Kw7K7",
        "outputId": "2a326b4b-e835-4232-f16f-6e6220510620"
      },
      "outputs": [
        {
          "output_type": "stream",
          "name": "stdout",
          "text": [
            "Looking in indexes: https://pypi.org/simple, https://us-python.pkg.dev/colab-wheels/public/simple/\n",
            "Requirement already satisfied: ipython-autotime in /usr/local/lib/python3.7/dist-packages (0.3.1)\n",
            "Requirement already satisfied: ipython in /usr/local/lib/python3.7/dist-packages (from ipython-autotime) (7.9.0)\n",
            "Requirement already satisfied: jedi>=0.10 in /usr/local/lib/python3.7/dist-packages (from ipython->ipython-autotime) (0.18.1)\n",
            "Requirement already satisfied: setuptools>=18.5 in /usr/local/lib/python3.7/dist-packages (from ipython->ipython-autotime) (57.4.0)\n",
            "Requirement already satisfied: pickleshare in /usr/local/lib/python3.7/dist-packages (from ipython->ipython-autotime) (0.7.5)\n",
            "Requirement already satisfied: pexpect in /usr/local/lib/python3.7/dist-packages (from ipython->ipython-autotime) (4.8.0)\n",
            "Requirement already satisfied: pygments in /usr/local/lib/python3.7/dist-packages (from ipython->ipython-autotime) (2.6.1)\n",
            "Requirement already satisfied: decorator in /usr/local/lib/python3.7/dist-packages (from ipython->ipython-autotime) (4.4.2)\n",
            "Requirement already satisfied: backcall in /usr/local/lib/python3.7/dist-packages (from ipython->ipython-autotime) (0.2.0)\n",
            "Requirement already satisfied: prompt-toolkit<2.1.0,>=2.0.0 in /usr/local/lib/python3.7/dist-packages (from ipython->ipython-autotime) (2.0.10)\n",
            "Requirement already satisfied: traitlets>=4.2 in /usr/local/lib/python3.7/dist-packages (from ipython->ipython-autotime) (5.1.1)\n",
            "Requirement already satisfied: parso<0.9.0,>=0.8.0 in /usr/local/lib/python3.7/dist-packages (from jedi>=0.10->ipython->ipython-autotime) (0.8.3)\n",
            "Requirement already satisfied: six>=1.9.0 in /usr/local/lib/python3.7/dist-packages (from prompt-toolkit<2.1.0,>=2.0.0->ipython->ipython-autotime) (1.15.0)\n",
            "Requirement already satisfied: wcwidth in /usr/local/lib/python3.7/dist-packages (from prompt-toolkit<2.1.0,>=2.0.0->ipython->ipython-autotime) (0.2.5)\n",
            "Requirement already satisfied: ptyprocess>=0.5 in /usr/local/lib/python3.7/dist-packages (from pexpect->ipython->ipython-autotime) (0.7.0)\n",
            "time: 3.35 s (started: 2022-10-07 19:59:04 +00:00)\n"
          ]
        }
      ],
      "source": [
        "!pip install ipython-autotime"
      ]
    },
    {
      "cell_type": "code",
      "source": [
        "%load_ext autotime"
      ],
      "metadata": {
        "colab": {
          "base_uri": "https://localhost:8080/"
        },
        "id": "jySpbHTI2IjS",
        "outputId": "993cca9a-8848-44a7-fd7b-1653f670ccf9"
      },
      "execution_count": null,
      "outputs": [
        {
          "output_type": "stream",
          "name": "stdout",
          "text": [
            "The autotime extension is already loaded. To reload it, use:\n",
            "  %reload_ext autotime\n",
            "time: 4.13 ms (started: 2022-10-07 19:59:07 +00:00)\n"
          ]
        }
      ]
    },
    {
      "cell_type": "code",
      "source": [
        "%load_ext Cython"
      ],
      "metadata": {
        "colab": {
          "base_uri": "https://localhost:8080/"
        },
        "id": "8soSN9C62Igq",
        "outputId": "872c6921-7892-47fc-a986-ffac193e07fb"
      },
      "execution_count": null,
      "outputs": [
        {
          "output_type": "stream",
          "name": "stdout",
          "text": [
            "The Cython extension is already loaded. To reload it, use:\n",
            "  %reload_ext Cython\n",
            "time: 1.21 ms (started: 2022-10-07 19:59:07 +00:00)\n"
          ]
        }
      ]
    },
    {
      "cell_type": "markdown",
      "source": [
        "# Importamos imágenes desde GitHub"
      ],
      "metadata": {
        "id": "rdAkwx2zKZIf"
      }
    },
    {
      "cell_type": "code",
      "source": [
        "# Clonamos el repositorio\n",
        "!git clone https://github.com/BenjaminIrarrazabal/Procesamiento_Avanzado_de_Imagenes"
      ],
      "metadata": {
        "colab": {
          "base_uri": "https://localhost:8080/"
        },
        "id": "9FfsjCOiHH-b",
        "outputId": "cf688004-1f3e-43b4-88a5-0139ce145835"
      },
      "execution_count": null,
      "outputs": [
        {
          "output_type": "stream",
          "name": "stdout",
          "text": [
            "Cloning into 'Procesamiento_Avanzado_de_Imagenes'...\n",
            "remote: Enumerating objects: 381, done.\u001b[K\n",
            "remote: Counting objects: 100% (381/381), done.\u001b[K\n",
            "remote: Compressing objects: 100% (380/380), done.\u001b[K\n",
            "remote: Total 381 (delta 1), reused 376 (delta 1), pack-reused 0\u001b[K\n",
            "Receiving objects: 100% (381/381), 34.01 MiB | 16.79 MiB/s, done.\n",
            "Resolving deltas: 100% (1/1), done.\n",
            "time: 4.36 s (started: 2022-10-07 19:59:07 +00:00)\n"
          ]
        }
      ]
    },
    {
      "cell_type": "code",
      "source": [
        "# Nos posicionamos en la carpeta de imágenes de la tarea 3\n",
        "%cd Procesamiento_Avanzado_de_Imagenes/ImagenesT3"
      ],
      "metadata": {
        "colab": {
          "base_uri": "https://localhost:8080/"
        },
        "id": "OonF-fZxKNPi",
        "outputId": "39c2fd9a-8b00-4a32-84e7-23a741339a38"
      },
      "execution_count": null,
      "outputs": [
        {
          "output_type": "stream",
          "name": "stdout",
          "text": [
            "/content/Procesamiento_Avanzado_de_Imagenes/ImagenesT3/Procesamiento_Avanzado_de_Imagenes/ImagenesT3\n",
            "time: 5.65 ms (started: 2022-10-07 19:59:11 +00:00)\n"
          ]
        }
      ]
    },
    {
      "cell_type": "code",
      "source": [
        "# Confirmamos que estén las carpetas\n",
        "!ls"
      ],
      "metadata": {
        "colab": {
          "base_uri": "https://localhost:8080/"
        },
        "id": "AZb4DweLKVVS",
        "outputId": "222ac651-a358-4081-ec0f-e9ac80a099b6"
      },
      "execution_count": null,
      "outputs": [
        {
          "output_type": "stream",
          "name": "stdout",
          "text": [
            "car_side  chair  pedestrian\n",
            "time: 141 ms (started: 2022-10-07 19:59:11 +00:00)\n"
          ]
        }
      ]
    },
    {
      "cell_type": "markdown",
      "source": [
        "# Funciones por definir"
      ],
      "metadata": {
        "id": "xyPj-brH2Qcd"
      }
    },
    {
      "cell_type": "markdown",
      "source": [
        "## Gradiente (x e y), extraídas de Tarea 2"
      ],
      "metadata": {
        "id": "4tq7ZLTuLneT"
      }
    },
    {
      "cell_type": "code",
      "source": [
        "%%cython\n",
        "import cython\n",
        "import numpy as np\n",
        "cimport numpy as np\n",
        "\n",
        "cpdef np.ndarray[np.float32_t, ndim=2] gradx(np.ndarray[np.float32_t, ndim=2] input):\n",
        "  cdef np.ndarray[np.float32_t, ndim=2] output=np.zeros([input.shape[0], input.shape[1]], dtype = np.float32)\n",
        "\n",
        "  cdef int i, j # indices para recorrer la imagen de entrada\n",
        "\n",
        "  for i in range(input.shape[0]): # se recorren todas las filas\n",
        "    for j in range(1, input.shape[1] - 1): # se evitan los bordes para calzar con la aproximación [-1, 0, 1]\n",
        "      output[i,j] = (input[i,j+1] - input[i,j-1]) # se aplica la convolución\n",
        "\n",
        "  return output"
      ],
      "metadata": {
        "colab": {
          "base_uri": "https://localhost:8080/"
        },
        "id": "7omBx2fs2Iea",
        "outputId": "42fb7e9f-f579-4b00-b37f-725d68d92939"
      },
      "execution_count": null,
      "outputs": [
        {
          "output_type": "stream",
          "name": "stdout",
          "text": [
            "time: 3.44 ms (started: 2022-10-07 19:59:12 +00:00)\n"
          ]
        }
      ]
    },
    {
      "cell_type": "code",
      "source": [
        "%%cython\n",
        "import cython\n",
        "import numpy as np\n",
        "cimport numpy as np\n",
        "\n",
        "cpdef np.ndarray[np.float32_t, ndim=2] grady(np.ndarray[np.float32_t, ndim=2] input):\n",
        "  cdef np.ndarray[np.float32_t, ndim=2] output=np.zeros([input.shape[0], input.shape[1]], dtype = np.float32)\n",
        "\n",
        "  cdef int i, j # indices para recorrer la imagen de entrada\n",
        "\n",
        "  for i in range(1, input.shape[0] - 1): # se evitan los bordes para calzar con la aproximación [-1, 0, 1]^T\n",
        "    for j in range(input.shape[1]): # se recorren todas las columnas\n",
        "      output[i,j] = (input[i+1,j] - input[i-1,j]) # se aplica la convolución\n",
        "  return output"
      ],
      "metadata": {
        "colab": {
          "base_uri": "https://localhost:8080/"
        },
        "id": "8QI9OxcZ2Ia-",
        "outputId": "4d56d9a1-9693-4f23-c9f0-b878f0614bd9"
      },
      "execution_count": null,
      "outputs": [
        {
          "output_type": "stream",
          "name": "stdout",
          "text": [
            "time: 2.82 ms (started: 2022-10-07 19:59:12 +00:00)\n"
          ]
        }
      ]
    },
    {
      "cell_type": "code",
      "source": [
        "# Función que retorna ambos gradientes (centrales ya que se utiliza kernel [-1, 0, 1])\n",
        "def gradientes(img):\n",
        "  return gradx(img), grady(img)"
      ],
      "metadata": {
        "colab": {
          "base_uri": "https://localhost:8080/"
        },
        "id": "AVxDqd81srUn",
        "outputId": "445c6c23-0822-4b14-e1ac-ffa6f470968c"
      },
      "execution_count": null,
      "outputs": [
        {
          "output_type": "stream",
          "name": "stdout",
          "text": [
            "time: 1.05 ms (started: 2022-10-07 19:59:12 +00:00)\n"
          ]
        }
      ]
    },
    {
      "cell_type": "markdown",
      "source": [
        "# Transformar a escala de grises y redimensionar"
      ],
      "metadata": {
        "id": "YzniN1BALiON"
      }
    },
    {
      "cell_type": "code",
      "source": [
        "# gray_redimension toma una imagen de entrada y la transforma a escala de grises\n",
        "# luego, realiza un reshape para que la imagen de salida sea del tamaño 64x128 pixeles.\n",
        "\n",
        "def gray_redimension(img):\n",
        "  # Se transforma a escala de grises\n",
        "  gray_img = cv2.cvtColor(img, cv2.COLOR_BGR2GRAY)\n",
        "  # Se redimensiona la imagen\n",
        "  out_img = cv2.resize(gray_img, dsize=(64, 128), interpolation = cv2.INTER_CUBIC)\n",
        "  return np.float32(out_img)"
      ],
      "metadata": {
        "colab": {
          "base_uri": "https://localhost:8080/"
        },
        "id": "AIAM8n2C2IZH",
        "outputId": "8536049b-0cf2-45b0-bfc5-b1a1c4167e83"
      },
      "execution_count": null,
      "outputs": [
        {
          "output_type": "stream",
          "name": "stdout",
          "text": [
            "time: 3.61 ms (started: 2022-10-07 19:59:12 +00:00)\n"
          ]
        }
      ]
    },
    {
      "cell_type": "code",
      "source": [
        "# Función auxiliar creada para probar un ejemplo\n",
        "def plot_redimension(img):\n",
        "  print('Imagen Original', img.shape)\n",
        "  cv2_imshow(img)\n",
        "  final = gray_redimension(img)\n",
        "  print('Imagen post redimension', final.shape)\n",
        "  cv2_imshow(final)"
      ],
      "metadata": {
        "colab": {
          "base_uri": "https://localhost:8080/"
        },
        "id": "4JHqOofvQszn",
        "outputId": "58e4abbb-c69d-45c4-d707-3dbadd4bbb0a"
      },
      "execution_count": null,
      "outputs": [
        {
          "output_type": "stream",
          "name": "stdout",
          "text": [
            "time: 1.4 ms (started: 2022-10-07 19:59:12 +00:00)\n"
          ]
        }
      ]
    },
    {
      "cell_type": "code",
      "source": [
        "# Realizamos una prueba de la función anterior\n",
        "img = cv2.imread('pedestrian/1.png')\n",
        "plot_redimension(img)"
      ],
      "metadata": {
        "colab": {
          "base_uri": "https://localhost:8080/",
          "height": 287
        },
        "id": "SLLMsnD_2IWr",
        "outputId": "6e4894de-69ff-4f4d-f256-ebf411678d22"
      },
      "execution_count": null,
      "outputs": [
        {
          "output_type": "stream",
          "name": "stdout",
          "text": [
            "Imagen Original (90, 36, 3)\n"
          ]
        },
        {
          "output_type": "display_data",
          "data": {
            "text/plain": [
              "<PIL.Image.Image image mode=RGB size=36x90 at 0x7FBBB0C2A3D0>"
            ],
            "image/png": "[encoded data removed]"
          },
          "metadata": {}
        },
        {
          "output_type": "stream",
          "name": "stdout",
          "text": [
            "Imagen post redimension (128, 64)\n"
          ]
        },
        {
          "output_type": "display_data",
          "data": {
            "text/plain": [
              "<PIL.Image.Image image mode=L size=64x128 at 0x7FBBB0C2A790>"
            ],
            "image/png": "[encoded data removed]"
          },
          "metadata": {}
        },
        {
          "output_type": "stream",
          "name": "stdout",
          "text": [
            "time: 28.3 ms (started: 2022-10-07 19:59:12 +00:00)\n"
          ]
        }
      ]
    },
    {
      "cell_type": "markdown",
      "source": [
        "# HOG"
      ],
      "metadata": {
        "id": "reiInTgJz1cm"
      }
    },
    {
      "cell_type": "code",
      "source": [
        "%%cython\n",
        "import cython\n",
        "import numpy as np\n",
        "cimport numpy as np\n",
        "\n",
        "cpdef np.ndarray[np.float32_t, ndim=2] magnitude(np.ndarray[np.float32_t, ndim=2] gx, np.ndarray[np.float32_t, ndim=2] gy):\n",
        "  cdef np.ndarray[np.float32_t, ndim=2] magnitude = np.zeros([gx.shape[0], gx.shape[1]], dtype = np.float32)\n",
        "\n",
        "  cdef int i, j # enteros para recorrer los gradientes\n",
        "\n",
        "  # Recorremos los gradientes que entran a la función\n",
        "  for i in range(magnitude.shape[0]):\n",
        "    for j in range(magnitude.shape[1]):\n",
        "      # Calculamos la magnitud \n",
        "      magnitude[i,j] = np.sqrt(gx[i,j]**2 + gy[i,j]**2)\n",
        "  return magnitude"
      ],
      "metadata": {
        "id": "UvEPgXz7shNS",
        "colab": {
          "base_uri": "https://localhost:8080/"
        },
        "outputId": "415a40df-3722-4e13-bf0c-72b77ae7c2a5"
      },
      "execution_count": null,
      "outputs": [
        {
          "output_type": "stream",
          "name": "stdout",
          "text": [
            "time: 9.99 ms (started: 2022-10-07 19:59:12 +00:00)\n"
          ]
        }
      ]
    },
    {
      "cell_type": "code",
      "source": [
        "%%cython\n",
        "import cython\n",
        "import numpy as np\n",
        "cimport numpy as np\n",
        "\n",
        "cpdef np.ndarray[np.float32_t, ndim=2] angle(np.ndarray[np.float32_t, ndim=2] gx, np.ndarray[np.float32_t, ndim=2] gy):\n",
        "  cdef np.ndarray[np.float32_t, ndim=2] angle = np.zeros([gx.shape[0], gx.shape[1]], dtype = np.float32)\n",
        "\n",
        "  cdef int i, j # enteros para recorrer los gradientes\n",
        "\n",
        "  # Recorremos los gradientes que entran a la función\n",
        "  for i in range(angle.shape[0]):\n",
        "    for j in range(angle.shape[1]):\n",
        "      # Calculamos la dirección\n",
        "      angle[i,j] = np.arctan2(gx[i,j], gy[i,j]) * 180 / np.pi\n",
        "      if angle[i,j] < 0:\n",
        "        angle[i,j] += 360\n",
        "  return angle"
      ],
      "metadata": {
        "colab": {
          "base_uri": "https://localhost:8080/"
        },
        "id": "T2gD5TimeYP4",
        "outputId": "9b359aa1-32b4-43bb-d773-b4495605f158"
      },
      "execution_count": null,
      "outputs": [
        {
          "output_type": "stream",
          "name": "stdout",
          "text": [
            "time: 11.4 ms (started: 2022-10-07 19:59:12 +00:00)\n"
          ]
        }
      ]
    },
    {
      "cell_type": "code",
      "source": [
        "def HOG_Features(magnitude, angle):\n",
        "  # Se crea el arreglo de ceros\n",
        "  Features = np.zeros([16, 8, 9], dtype = np.float32)\n",
        "  # Se recorre el arreglo para tener todos los ángulos entre 0 y 180\n",
        "  for i in range(angle.shape[0]):\n",
        "    for j in range(angle.shape[1]):\n",
        "      if angle[i,j] >= 180:\n",
        "        angle[i,j] -= 180\n",
        "\n",
        "  \n",
        "  # Se recorre para extraer las características\n",
        "  for i in range(angle.shape[0]):\n",
        "    for j in range(angle.shape[1]):\n",
        "      # k permite saber si estamos sobre un bin (0, 20, 40, 60...)\n",
        "      k = angle[i,j]%20\n",
        "      # m permite encontrar la posición del bin (0, 1, 2, 3....)\n",
        "      m = int(angle[i,j] // 20)\n",
        "      # Si k es cero, significa que toda la magnitud va al bin m\n",
        "      if k == 0: \n",
        "        Features[i//8, j//8, m] += magnitude[i,j]\n",
        "      # si k es distinto de cero:\n",
        "      else:\n",
        "        # se calculan ponderaciones\n",
        "        p1 = (angle[i,j] / 20) - m\n",
        "        p2 = m + 1 - (angle[i,j] / 20)\n",
        "        # si m es el ultimo bin, solo se agrega a este\n",
        "        if m==8:\n",
        "          Features[i//8, j//8, m] += (magnitude[i,j] * p2)\n",
        "        # si no, se reparte según las ponderaciones obtenidas\n",
        "        else:\n",
        "          Features[i//8, j//8, m] += (magnitude[i,j] * p2)\n",
        "          Features[i//8, j//8, m+1] += (magnitude[i,j] * p1)\n",
        "  return Features"
      ],
      "metadata": {
        "id": "AZg_PIndkW7w",
        "colab": {
          "base_uri": "https://localhost:8080/"
        },
        "outputId": "1c60addf-26ad-494f-98e3-57d6d2ca8b6e"
      },
      "execution_count": null,
      "outputs": [
        {
          "output_type": "stream",
          "name": "stdout",
          "text": [
            "time: 25 ms (started: 2022-10-07 19:59:12 +00:00)\n"
          ]
        }
      ]
    },
    {
      "cell_type": "code",
      "source": [
        "def Block_Normalization(features):\n",
        "  # Se crean dos listas vacías que guardarán la información\n",
        "  feature_vector = []\n",
        "  normalized_vector = []\n",
        "  # Se recorre el vector de 16x8x9 hasta antes de los extremos (para usar bloques de 2x2 celdas)\n",
        "  for i in range(features.shape[0]-1):\n",
        "    for j in range(features.shape[1]-1):\n",
        "      # Se agregan las features de las celdas correspondientes\n",
        "      normalized_vector.append(features[i,j])\n",
        "      normalized_vector.append(features[i,j+1])\n",
        "      normalized_vector.append(features[i+1,j])\n",
        "      normalized_vector.append(features[i+1,j+1])\n",
        "      # si el valor de las celdas es distinto a cero, se normaliza\n",
        "      if np.sum(normalized_vector) != 0:\n",
        "        normalized_vector = np.array(normalized_vector) / np.sum(normalized_vector)\n",
        "  # se retorna el vector de características de 1x3780\n",
        "      feature_vector.append(normalized_vector)\n",
        "      normalized_vector = []\n",
        "  feature_vector = np.float32(feature_vector)\n",
        "  feature_vector = feature_vector.reshape((1, 3780))\n",
        "  return np.float32(feature_vector[0])"
      ],
      "metadata": {
        "colab": {
          "base_uri": "https://localhost:8080/"
        },
        "id": "QuU6Nv5Hehxq",
        "outputId": "b1a815d8-e064-46f6-d20c-42041bc10431"
      },
      "execution_count": null,
      "outputs": [
        {
          "output_type": "stream",
          "name": "stdout",
          "text": [
            "time: 15.9 ms (started: 2022-10-07 19:59:12 +00:00)\n"
          ]
        }
      ]
    },
    {
      "cell_type": "code",
      "source": [
        "def HOG(img):\n",
        "  # Se aplica la redimensión y transformación a escala de grises\n",
        "  img_resized = gray_redimension(img)\n",
        "  # Se computan gradientes en x e y\n",
        "  gx, gy = gradientes(img_resized)\n",
        "  # Se obtienen las matrices de magnitud y dirección (ángulos)\n",
        "  mag = magnitude(gx, gy)\n",
        "  ang = angle(gx, gy)\n",
        "  # Se extraen las características\n",
        "  FeaturesHOG = HOG_Features(mag, ang)\n",
        "  # Se normalizan features y se retorna el vector de largo 3780\n",
        "  features_vector = Block_Normalization(FeaturesHOG)\n",
        "  return features_vector"
      ],
      "metadata": {
        "id": "OXtRA-RuWTx0",
        "colab": {
          "base_uri": "https://localhost:8080/"
        },
        "outputId": "eb7d0b75-b696-43bf-eff3-00dcfc23f465"
      },
      "execution_count": null,
      "outputs": [
        {
          "output_type": "stream",
          "name": "stdout",
          "text": [
            "time: 5.88 ms (started: 2022-10-07 19:59:12 +00:00)\n"
          ]
        }
      ]
    },
    {
      "cell_type": "markdown",
      "source": [
        "# Feature Extractor"
      ],
      "metadata": {
        "id": "Le-ted5RZsM4"
      }
    },
    {
      "cell_type": "code",
      "source": [
        "pedestrian_path = glob.glob('pedestrian//*.png') # nombres en file[11:-4]\n",
        "chair_path = glob.glob('chair//*.jpg') # nombres en file[6:-4]\n",
        "car_path = glob.glob('car_side//*.jpg') # nombres en file[9:-4]\n",
        "\n",
        "Features = []\n",
        "Class = []\n",
        "\n",
        "for file in pedestrian_path:\n",
        "    img = cv2.imread(file)\n",
        "    feature = HOG(img)\n",
        "    Features.append(feature)\n",
        "    Class.append(0)\n",
        "\n",
        "for file in chair_path:\n",
        "    img = cv2.imread(file)\n",
        "    feature = HOG(img)\n",
        "    Features.append(feature)\n",
        "    Class.append(1)\n",
        "\n",
        "for file in car_path:\n",
        "    img = cv2.imread(file)\n",
        "    feature = HOG(img)\n",
        "    Features.append(feature)\n",
        "    Class.append(2)"
      ],
      "metadata": {
        "id": "eJtnfQJCXTj2",
        "colab": {
          "base_uri": "https://localhost:8080/"
        },
        "outputId": "63f46f05-fd9b-4fa0-d2b6-b90ac91aef7b"
      },
      "execution_count": null,
      "outputs": [
        {
          "output_type": "stream",
          "name": "stdout",
          "text": [
            "time: 1min 27s (started: 2022-10-07 19:59:12 +00:00)\n"
          ]
        }
      ]
    },
    {
      "cell_type": "markdown",
      "source": [
        "# Entrenamiento y Clasificaciones"
      ],
      "metadata": {
        "id": "NeUktwTwX7iG"
      }
    },
    {
      "cell_type": "code",
      "source": [
        "from sklearn.model_selection import train_test_split\n",
        "from sklearn.metrics import accuracy_score, confusion_matrix\n",
        "from sklearn.svm import SVC\n",
        "from sklearn.ensemble import RandomForestClassifier\n",
        "from sklearn.preprocessing import StandardScaler\n",
        "from sklearn.model_selection import PredefinedSplit\n",
        "\n",
        "X_80, X_test, Y_80, Y_test = train_test_split(Features, np.array(Class), test_size=0.20, stratify=Class)\n",
        "\n",
        "X_train, X_val, Y_train, Y_val = train_test_split(X_80, Y_80, train_size=0.75)\n",
        "\n",
        "scaler = StandardScaler()\n",
        "X_train = scaler.fit_transform(X_train)\n",
        "X_80 = scaler.transform(X_80)\n",
        "X_test = scaler.transform (X_test)\n",
        "\n",
        "test_fold = [-1 for _ in range(int(len(X_80)*0.75))] + [0 for _ in range(int(len(X_80)*0.25))]\n",
        "\n",
        "PSplit = PredefinedSplit(test_fold)"
      ],
      "metadata": {
        "colab": {
          "base_uri": "https://localhost:8080/"
        },
        "id": "fGUU4zMJm2Ko",
        "outputId": "1ff31b51-e251-4477-8e0a-261ad0410df4"
      },
      "execution_count": null,
      "outputs": [
        {
          "output_type": "stream",
          "name": "stdout",
          "text": [
            "time: 32.5 ms (started: 2022-10-07 21:15:48 +00:00)\n"
          ]
        }
      ]
    },
    {
      "cell_type": "markdown",
      "source": [
        "## Support Vector Machines"
      ],
      "metadata": {
        "id": "zHtNn9x_O7JL"
      }
    },
    {
      "cell_type": "code",
      "source": [
        "\n",
        "from sklearn.model_selection import GridSearchCV\n",
        "# Grid Search para Support Vector Machines\n",
        "model = SVC()\n",
        "parametros = {'C': [0.01, 0.1, 1.0, 10, 100, 1000],\n",
        "              'kernel': ['linear', 'poly', 'rbf', 'sigmoid'],\n",
        "              'gamma': [0.01, 0.1, 1.0, 10, 'scale', 'auto']}\n",
        "\n",
        "grid = GridSearchCV(model, parametros, cv=PSplit)\n",
        "grid.fit(X_80, Y_80)\n",
        "grid.best_estimator_"
      ],
      "metadata": {
        "colab": {
          "base_uri": "https://localhost:8080/"
        },
        "id": "bzpnoILgPrA-",
        "outputId": "7cf69fb1-4aa6-4bed-c7a0-2cdbf3db52aa"
      },
      "execution_count": null,
      "outputs": [
        {
          "output_type": "execute_result",
          "data": {
            "text/plain": [
              "SVC(kernel='sigmoid')"
            ]
          },
          "metadata": {},
          "execution_count": 126
        },
        {
          "output_type": "stream",
          "name": "stdout",
          "text": [
            "time: 16 s (started: 2022-10-07 21:17:43 +00:00)\n"
          ]
        }
      ]
    },
    {
      "cell_type": "code",
      "source": [
        "# Clasificación usando el mejor modelo encontrado\n",
        "classifier = SVC(kernel = 'sigmoid')\n",
        "classifier.fit(X_train, Y_train)\n",
        "\n",
        "Y_pred = classifier.predict(X_test)\n",
        "print('Accuracy Test SVM: ', accuracy_score(Y_test, Y_pred))"
      ],
      "metadata": {
        "colab": {
          "base_uri": "https://localhost:8080/"
        },
        "id": "c3BJNi8X8pbj",
        "outputId": "787ec6ae-dd45-4edc-e31b-f4df7c5f949e"
      },
      "execution_count": null,
      "outputs": [
        {
          "output_type": "stream",
          "name": "stdout",
          "text": [
            "Accuracy Test SVM:  0.9864864864864865\n",
            "time: 79.1 ms (started: 2022-10-07 21:18:24 +00:00)\n"
          ]
        }
      ]
    },
    {
      "cell_type": "code",
      "source": [
        "import seaborn as sn\n",
        "sn.set()\n",
        "f,ax=plt.subplots()\n",
        "cm = confusion_matrix(Y_test, Y_pred, normalize = 'true')\n",
        "sn.heatmap(cm,annot=True,ax=ax, cmap = 'Blues') \n",
        "\n",
        "ax.set_title('Matriz de confusión SVM') \n",
        "ax.set_xlabel('Predicted Labels') \n",
        "ax.set_ylabel('True Labels') "
      ],
      "metadata": {
        "colab": {
          "base_uri": "https://localhost:8080/",
          "height": 336
        },
        "id": "eIxXie8BHKgk",
        "outputId": "5c55f270-907b-4427-8098-836e3baebff1"
      },
      "execution_count": null,
      "outputs": [
        {
          "output_type": "execute_result",
          "data": {
            "text/plain": [
              "Text(30.5, 0.5, 'True Labels')"
            ]
          },
          "metadata": {},
          "execution_count": 128
        },
        {
          "output_type": "display_data",
          "data": {
            "text/plain": [
              "<Figure size 432x288 with 2 Axes>"
            ],
            "image/png": "[encoded data removed]"
          },
          "metadata": {}
        },
        {
          "output_type": "stream",
          "name": "stdout",
          "text": [
            "time: 271 ms (started: 2022-10-07 21:18:26 +00:00)\n"
          ]
        }
      ]
    },
    {
      "cell_type": "markdown",
      "source": [
        "## Random Forests"
      ],
      "metadata": {
        "id": "5FJVdvyPO9xl"
      }
    },
    {
      "cell_type": "code",
      "source": [
        "\n",
        "from sklearn.model_selection import GridSearchCV\n",
        "# Grid Search para RandomForest\n",
        "model = RandomForestClassifier()\n",
        "parametros = {'n_estimators': [20, 50, 70, 100, 130, 180],\n",
        "              'criterion': ['gini', 'entropy', 'log_loss'],\n",
        "              'max_depth': [5, 10, 20, 30, 40, 100],\n",
        "              'max_features': ['sqrt', 'log2'], \n",
        "              'n_jobs': [1, -1]}\n",
        "grid = GridSearchCV(model, parametros, cv=PSplit)\n",
        "grid.fit(X_80, Y_80)\n",
        "grid.best_estimator_\n"
      ],
      "metadata": {
        "colab": {
          "base_uri": "https://localhost:8080/"
        },
        "id": "c1CQji0bUjZF",
        "outputId": "03e5a68c-f9e5-44f7-8213-039df1c6a44a"
      },
      "execution_count": null,
      "outputs": [
        {
          "output_type": "stream",
          "name": "stderr",
          "text": [
            "/usr/local/lib/python3.7/dist-packages/sklearn/model_selection/_validation.py:372: FitFailedWarning: \n",
            "144 fits failed out of a total of 432.\n",
            "The score on these train-test partitions for these parameters will be set to nan.\n",
            "If these failures are not expected, you can try to debug them by setting error_score='raise'.\n",
            "\n",
            "Below are more details about the failures:\n",
            "--------------------------------------------------------------------------------\n",
            "72 fits failed with the following error:\n",
            "Traceback (most recent call last):\n",
            "  File \"/usr/local/lib/python3.7/dist-packages/sklearn/model_selection/_validation.py\", line 680, in _fit_and_score\n",
            "    estimator.fit(X_train, y_train, **fit_params)\n",
            "  File \"/usr/local/lib/python3.7/dist-packages/sklearn/ensemble/_forest.py\", line 467, in fit\n",
            "    for i, t in enumerate(trees)\n",
            "  File \"/usr/local/lib/python3.7/dist-packages/joblib/parallel.py\", line 1085, in __call__\n",
            "    if self.dispatch_one_batch(iterator):\n",
            "  File \"/usr/local/lib/python3.7/dist-packages/joblib/parallel.py\", line 901, in dispatch_one_batch\n",
            "    self._dispatch(tasks)\n",
            "  File \"/usr/local/lib/python3.7/dist-packages/joblib/parallel.py\", line 819, in _dispatch\n",
            "    job = self._backend.apply_async(batch, callback=cb)\n",
            "  File \"/usr/local/lib/python3.7/dist-packages/joblib/_parallel_backends.py\", line 208, in apply_async\n",
            "    result = ImmediateResult(func)\n",
            "  File \"/usr/local/lib/python3.7/dist-packages/joblib/_parallel_backends.py\", line 597, in __init__\n",
            "    self.results = batch()\n",
            "  File \"/usr/local/lib/python3.7/dist-packages/joblib/parallel.py\", line 289, in __call__\n",
            "    for func, args, kwargs in self.items]\n",
            "  File \"/usr/local/lib/python3.7/dist-packages/joblib/parallel.py\", line 289, in <listcomp>\n",
            "    for func, args, kwargs in self.items]\n",
            "  File \"/usr/local/lib/python3.7/dist-packages/sklearn/utils/fixes.py\", line 216, in __call__\n",
            "    return self.function(*args, **kwargs)\n",
            "  File \"/usr/local/lib/python3.7/dist-packages/sklearn/ensemble/_forest.py\", line 185, in _parallel_build_trees\n",
            "    tree.fit(X, y, sample_weight=curr_sample_weight, check_input=False)\n",
            "  File \"/usr/local/lib/python3.7/dist-packages/sklearn/tree/_classes.py\", line 942, in fit\n",
            "    X_idx_sorted=X_idx_sorted,\n",
            "  File \"/usr/local/lib/python3.7/dist-packages/sklearn/tree/_classes.py\", line 352, in fit\n",
            "    criterion = CRITERIA_CLF[self.criterion](\n",
            "KeyError: 'log_loss'\n",
            "\n",
            "--------------------------------------------------------------------------------\n",
            "72 fits failed with the following error:\n",
            "joblib.externals.loky.process_executor._RemoteTraceback: \n",
            "\"\"\"\n",
            "Traceback (most recent call last):\n",
            "  File \"/usr/local/lib/python3.7/dist-packages/joblib/externals/loky/process_executor.py\", line 428, in _process_worker\n",
            "    r = call_item()\n",
            "  File \"/usr/local/lib/python3.7/dist-packages/joblib/externals/loky/process_executor.py\", line 275, in __call__\n",
            "    return self.fn(*self.args, **self.kwargs)\n",
            "  File \"/usr/local/lib/python3.7/dist-packages/joblib/_parallel_backends.py\", line 620, in __call__\n",
            "    return self.func(*args, **kwargs)\n",
            "  File \"/usr/local/lib/python3.7/dist-packages/joblib/parallel.py\", line 289, in __call__\n",
            "    for func, args, kwargs in self.items]\n",
            "  File \"/usr/local/lib/python3.7/dist-packages/joblib/parallel.py\", line 289, in <listcomp>\n",
            "    for func, args, kwargs in self.items]\n",
            "  File \"/usr/local/lib/python3.7/dist-packages/sklearn/utils/fixes.py\", line 216, in __call__\n",
            "    return self.function(*args, **kwargs)\n",
            "  File \"/usr/local/lib/python3.7/dist-packages/sklearn/ensemble/_forest.py\", line 185, in _parallel_build_trees\n",
            "    tree.fit(X, y, sample_weight=curr_sample_weight, check_input=False)\n",
            "  File \"/usr/local/lib/python3.7/dist-packages/sklearn/tree/_classes.py\", line 942, in fit\n",
            "    X_idx_sorted=X_idx_sorted,\n",
            "  File \"/usr/local/lib/python3.7/dist-packages/sklearn/tree/_classes.py\", line 352, in fit\n",
            "    criterion = CRITERIA_CLF[self.criterion](\n",
            "KeyError: 'log_loss'\n",
            "\"\"\"\n",
            "\n",
            "The above exception was the direct cause of the following exception:\n",
            "\n",
            "Traceback (most recent call last):\n",
            "  File \"/usr/local/lib/python3.7/dist-packages/sklearn/model_selection/_validation.py\", line 680, in _fit_and_score\n",
            "    estimator.fit(X_train, y_train, **fit_params)\n",
            "  File \"/usr/local/lib/python3.7/dist-packages/sklearn/ensemble/_forest.py\", line 467, in fit\n",
            "    for i, t in enumerate(trees)\n",
            "  File \"/usr/local/lib/python3.7/dist-packages/joblib/parallel.py\", line 1098, in __call__\n",
            "    self.retrieve()\n",
            "  File \"/usr/local/lib/python3.7/dist-packages/joblib/parallel.py\", line 975, in retrieve\n",
            "    self._output.extend(job.get(timeout=self.timeout))\n",
            "  File \"/usr/local/lib/python3.7/dist-packages/joblib/_parallel_backends.py\", line 567, in wrap_future_result\n",
            "    return future.result(timeout=timeout)\n",
            "  File \"/usr/lib/python3.7/concurrent/futures/_base.py\", line 435, in result\n",
            "    return self.__get_result()\n",
            "  File \"/usr/lib/python3.7/concurrent/futures/_base.py\", line 384, in __get_result\n",
            "    raise self._exception\n",
            "KeyError: 'log_loss'\n",
            "\n",
            "  warnings.warn(some_fits_failed_message, FitFailedWarning)\n",
            "/usr/local/lib/python3.7/dist-packages/sklearn/model_selection/_search.py:972: UserWarning: One or more of the test scores are non-finite: [0.85135135 0.90540541 0.87837838 0.87837838 0.89189189 0.86486486\n",
            " 0.87837838 0.87837838 0.89189189 0.87837838 0.86486486 0.86486486\n",
            " 0.83783784 0.86486486 0.87837838 0.89189189 0.87837838 0.87837838\n",
            " 0.87837838 0.86486486 0.87837838 0.86486486 0.87837838 0.87837838\n",
            " 0.86486486 0.85135135 0.89189189 0.86486486 0.86486486 0.87837838\n",
            " 0.90540541 0.89189189 0.89189189 0.86486486 0.86486486 0.89189189\n",
            " 0.86486486 0.86486486 0.85135135 0.87837838 0.83783784 0.86486486\n",
            " 0.87837838 0.90540541 0.87837838 0.87837838 0.89189189 0.90540541\n",
            " 0.85135135 0.81081081 0.89189189 0.85135135 0.89189189 0.87837838\n",
            " 0.87837838 0.87837838 0.86486486 0.87837838 0.87837838 0.87837838\n",
            " 0.86486486 0.86486486 0.87837838 0.86486486 0.86486486 0.85135135\n",
            " 0.90540541 0.89189189 0.86486486 0.87837838 0.87837838 0.89189189\n",
            " 0.77027027 0.90540541 0.89189189 0.90540541 0.89189189 0.86486486\n",
            " 0.86486486 0.86486486 0.87837838 0.89189189 0.86486486 0.89189189\n",
            " 0.87837838 0.86486486 0.85135135 0.89189189 0.87837838 0.87837838\n",
            " 0.89189189 0.90540541 0.90540541 0.90540541 0.87837838 0.87837838\n",
            " 0.89189189 0.85135135 0.85135135 0.87837838 0.87837838 0.87837838\n",
            " 0.87837838 0.85135135 0.87837838 0.86486486 0.87837838 0.87837838\n",
            " 0.89189189 0.85135135 0.87837838 0.86486486 0.89189189 0.87837838\n",
            " 0.89189189 0.89189189 0.86486486 0.85135135 0.86486486 0.89189189\n",
            " 0.89189189 0.86486486 0.89189189 0.85135135 0.86486486 0.90540541\n",
            " 0.86486486 0.87837838 0.87837838 0.87837838 0.89189189 0.86486486\n",
            " 0.85135135 0.89189189 0.89189189 0.89189189 0.90540541 0.91891892\n",
            " 0.87837838 0.86486486 0.87837838 0.86486486 0.87837838 0.86486486\n",
            " 0.89189189 0.85135135 0.87837838 0.83783784 0.89189189 0.86486486\n",
            " 0.87837838 0.87837838 0.85135135 0.87837838 0.87837838 0.86486486\n",
            " 0.86486486 0.86486486 0.89189189 0.86486486 0.86486486 0.89189189\n",
            " 0.87837838 0.86486486 0.89189189 0.87837838 0.89189189 0.87837838\n",
            " 0.86486486 0.83783784 0.86486486 0.86486486 0.86486486 0.87837838\n",
            " 0.87837838 0.89189189 0.87837838 0.86486486 0.89189189 0.87837838\n",
            " 0.89189189 0.90540541 0.87837838 0.90540541 0.89189189 0.89189189\n",
            " 0.87837838 0.87837838 0.89189189 0.89189189 0.85135135 0.86486486\n",
            " 0.87837838 0.86486486 0.87837838 0.90540541 0.85135135 0.89189189\n",
            " 0.89189189 0.86486486 0.86486486 0.87837838 0.87837838 0.87837838\n",
            " 0.86486486 0.87837838 0.89189189 0.87837838 0.89189189 0.86486486\n",
            " 0.86486486 0.89189189 0.86486486 0.87837838 0.89189189 0.87837838\n",
            " 0.87837838 0.85135135 0.90540541 0.85135135 0.85135135 0.87837838\n",
            " 0.87837838 0.86486486 0.89189189 0.85135135 0.89189189 0.87837838\n",
            " 0.82432432 0.87837838 0.86486486 0.89189189 0.89189189 0.87837838\n",
            " 0.86486486 0.87837838 0.86486486 0.87837838 0.89189189 0.86486486\n",
            " 0.83783784 0.87837838 0.90540541 0.89189189 0.89189189 0.89189189\n",
            " 0.87837838 0.87837838 0.87837838 0.87837838 0.87837838 0.86486486\n",
            " 0.85135135 0.86486486 0.90540541 0.89189189 0.87837838 0.87837838\n",
            " 0.89189189 0.87837838 0.90540541 0.87837838 0.87837838 0.89189189\n",
            " 0.82432432 0.83783784 0.87837838 0.87837838 0.85135135 0.87837838\n",
            " 0.87837838 0.87837838 0.89189189 0.87837838 0.87837838 0.85135135\n",
            " 0.83783784 0.87837838 0.86486486 0.87837838 0.86486486 0.89189189\n",
            " 0.87837838 0.86486486 0.90540541 0.89189189 0.86486486 0.86486486\n",
            "        nan        nan        nan        nan        nan        nan\n",
            "        nan        nan        nan        nan        nan        nan\n",
            "        nan        nan        nan        nan        nan        nan\n",
            "        nan        nan        nan        nan        nan        nan\n",
            "        nan        nan        nan        nan        nan        nan\n",
            "        nan        nan        nan        nan        nan        nan\n",
            "        nan        nan        nan        nan        nan        nan\n",
            "        nan        nan        nan        nan        nan        nan\n",
            "        nan        nan        nan        nan        nan        nan\n",
            "        nan        nan        nan        nan        nan        nan\n",
            "        nan        nan        nan        nan        nan        nan\n",
            "        nan        nan        nan        nan        nan        nan\n",
            "        nan        nan        nan        nan        nan        nan\n",
            "        nan        nan        nan        nan        nan        nan\n",
            "        nan        nan        nan        nan        nan        nan\n",
            "        nan        nan        nan        nan        nan        nan\n",
            "        nan        nan        nan        nan        nan        nan\n",
            "        nan        nan        nan        nan        nan        nan\n",
            "        nan        nan        nan        nan        nan        nan\n",
            "        nan        nan        nan        nan        nan        nan\n",
            "        nan        nan        nan        nan        nan        nan\n",
            "        nan        nan        nan        nan        nan        nan\n",
            "        nan        nan        nan        nan        nan        nan\n",
            "        nan        nan        nan        nan        nan        nan]\n",
            "  category=UserWarning,\n"
          ]
        },
        {
          "output_type": "execute_result",
          "data": {
            "text/plain": [
              "RandomForestClassifier(max_depth=100, max_features='log2', n_estimators=70,\n",
              "                       n_jobs=-1)"
            ]
          },
          "metadata": {},
          "execution_count": 129
        },
        {
          "output_type": "stream",
          "name": "stdout",
          "text": [
            "time: 4min 2s (started: 2022-10-07 21:19:03 +00:00)\n"
          ]
        }
      ]
    },
    {
      "cell_type": "code",
      "source": [
        "classifier = RandomForestClassifier(max_depth=10, max_features='sqrt', n_estimators=50, n_jobs=-1)\n",
        "classifier.fit(X_train, Y_train)\n",
        "\n",
        "Y_pred = classifier.predict(X_test)\n",
        "print('Accuracy Test RF: ', accuracy_score(Y_test, Y_pred))"
      ],
      "metadata": {
        "id": "xe0p76nQ8pXZ",
        "colab": {
          "base_uri": "https://localhost:8080/"
        },
        "outputId": "73c8b1ce-b4a5-45f5-e34a-f48594c8e85d"
      },
      "execution_count": null,
      "outputs": [
        {
          "output_type": "stream",
          "name": "stdout",
          "text": [
            "Accuracy Test RF:  0.9459459459459459\n",
            "time: 333 ms (started: 2022-10-07 21:34:31 +00:00)\n"
          ]
        }
      ]
    },
    {
      "cell_type": "code",
      "source": [
        "import seaborn as sn\n",
        "sn.set()\n",
        "f,ax=plt.subplots()\n",
        "cm = confusion_matrix(Y_test, Y_pred, normalize = 'true')\n",
        "sn.heatmap(cm,annot=True,ax=ax, cmap = 'Blues') \n",
        "\n",
        "ax.set_title('Matriz de confusión RF') \n",
        "ax.set_xlabel('Predicted Labels') \n",
        "ax.set_ylabel('True Labels') "
      ],
      "metadata": {
        "id": "ZVHtrD_p8pS8",
        "colab": {
          "base_uri": "https://localhost:8080/",
          "height": 336
        },
        "outputId": "984e6fc6-033a-4eaa-9843-900d16c0c74a"
      },
      "execution_count": null,
      "outputs": [
        {
          "output_type": "execute_result",
          "data": {
            "text/plain": [
              "Text(30.5, 0.5, 'True Labels')"
            ]
          },
          "metadata": {},
          "execution_count": 144
        },
        {
          "output_type": "display_data",
          "data": {
            "text/plain": [
              "<Figure size 432x288 with 2 Axes>"
            ],
            "image/png": "[encoded data removed]"
          },
          "metadata": {}
        },
        {
          "output_type": "stream",
          "name": "stdout",
          "text": [
            "time: 268 ms (started: 2022-10-07 21:34:32 +00:00)\n"
          ]
        }
      ]
    },
    {
      "cell_type": "markdown",
      "source": [
        "# Interpolación Bilinear"
      ],
      "metadata": {
        "id": "WKn1a6k39jUs"
      }
    },
    {
      "cell_type": "code",
      "source": [
        "def HOG_Features_Bilinearly(magnitude, angle):\n",
        "  # Se crea el arreglo de features\n",
        "  Features = np.zeros([16, 8, 9], dtype = np.float32)\n",
        "  # Se recorren los ángulos para que estén entre 0 y 180\n",
        "  for i in range(angle.shape[0]):\n",
        "    for j in range(angle.shape[1]):\n",
        "      if angle[i,j] >= 180:\n",
        "        angle[i,j] -= 180\n",
        "  # Se recorren los extremos y se aplica el mismo funcionamiendo que HOF_Features\n",
        "  # es decir, no se usa la interpolación\n",
        "  for i in range(angle.shape[0]-8, angle.shape[0]):\n",
        "    for j in range(angle.shape[1]-8, angle.shape[1]):\n",
        "      k = angle[i,j]%20\n",
        "      m = int(angle[i,j] // 20)\n",
        "      if k == 0: \n",
        "        Features[i//8, j//8, m] += magnitude[i,j]\n",
        "      else:\n",
        "        p1 = (angle[i,j] / 20) - m\n",
        "        p2 = m + 1 - (angle[i,j] / 20)\n",
        "        if m==8:\n",
        "          Features[i//8, j//8, m] += (magnitude[i,j] * p2)\n",
        "        else:\n",
        "          Features[i//8, j//8, m] += (magnitude[i,j] * p2)\n",
        "          Features[i//8, j//8, m+1] += (magnitude[i,j] * p1)\n",
        "  # Para los casos generales se aplica la interpolación de la siguiente manera\n",
        "  for i in range(angle.shape[0]-8):\n",
        "    for j in range(angle.shape[1]-8):\n",
        "      # k y m funcionan de igual manera que antes\n",
        "      k = angle[i,j]%20\n",
        "      m = int(angle[i,j] // 20)\n",
        "\n",
        "      p1 = (angle[i,j] / 20) - m        #  Ponderación bin más lejano\n",
        "      p2 = m + 1 - (angle[i,j] / 20)    #  Ponderación bin más cercano\n",
        "\n",
        "      # Las celdas más cercanas se determinan mediante un bloque de 2x2\n",
        "      c1 = Features[i//8, j//8]         # Celda directamente más cercana\n",
        "      c2 = Features[i//8, (j//8)+1]     # Celda de la derecha\n",
        "      c3 = Features[(i//8)+1, j//8]     # Celda de abajo\n",
        "      c4 = Features[(i//8)+1, (j//8)+1] # Celda diagonal\n",
        "\n",
        "      # Bines\n",
        "      b1 = m\n",
        "      b2 = m + 1\n",
        "\n",
        "      if (i%4 == 0) and (j%4 == 0): # Si está en el centro de la celda\n",
        "      # Si está en el centro de la celda, toda la ponderación de magnitud debe ir a esta celda en particular y luego realizar\n",
        "      # la ponderación interna entre bines\n",
        "        if m == 8:\n",
        "          c1[b1] += (magnitude[i,j] * p2)\n",
        "        else:\n",
        "          c1[b1] += (magnitude[i,j] * p2)\n",
        "          c1[b2] += (magnitude[i,j] * p1)\n",
        "\n",
        "      elif (i%7 == 0) and (j%7 == 0): # Si está entre 4 celdas\n",
        "      # Si está entre 4 celdas (justo en la unión), se reparte equitativamente y posteriormente se pondera internamente\n",
        "        if m == 8:\n",
        "          c1[b1] += (magnitude[i,j] * p2) * 0.25\n",
        "          c2[b1] += (magnitude[i,j] * p2) * 0.25\n",
        "          c3[b1] += (magnitude[i,j] * p2) * 0.25\n",
        "          c4[b1] += (magnitude[i,j] * p2) * 0.25\n",
        "        else:\n",
        "          c1[b1] += (magnitude[i,j] * p2) * 0.25\n",
        "          c2[b1] += (magnitude[i,j] * p2) * 0.25\n",
        "          c3[b1] += (magnitude[i,j] * p2) * 0.25\n",
        "          c4[b1] += (magnitude[i,j] * p2) * 0.25\n",
        "\n",
        "          c1[b2] += (magnitude[i,j] * p1) * 0.25\n",
        "          c2[b2] += (magnitude[i,j] * p1) * 0.25\n",
        "          c3[b2] += (magnitude[i,j] * p1) * 0.25\n",
        "          c4[b2] += (magnitude[i,j] * p1) * 0.25\n",
        "      else: # Cualquier otro caso\n",
        "      # En el caso general, se calculan las 4 distancias d1,..., d4\n",
        "      # estas se intercambian debidamente para ponderar las magnitudes de cada celda y bin respectivo\n",
        "      # El resto es análogo a todo lo anterior\n",
        "        d1 = np.abs(i-(i//8 * 8 + 4)) + np.abs(j-(j//8 * 8 + 4))\n",
        "        d2 = np.abs(i-(i//8 * 8 + 4)) + np.abs(j-(j//8 * 8 + 8)) \n",
        "        d3 = np.abs(i-(i//8 * 8 + 8)) + np.abs(j-(j//8 * 8 + 4)) \n",
        "        d4 = np.abs(i-(i//8 * 8 + 8)) + np.abs(j-(j//8 * 8 + 8)) \n",
        "        t = d1+d2+d3+d4\n",
        "        if m == 8:\n",
        "          if d2 > d3:\n",
        "            c1[b1] += (magnitude[i,j] * p2) * (d4/t)\n",
        "            c2[b1] += (magnitude[i,j] * p2) * (d3/t)\n",
        "            c3[b1] += (magnitude[i,j] * p2) * (d2/t)\n",
        "            c4[b1] += (magnitude[i,j] * p2) * (d1/t)\n",
        "          else:\n",
        "            c1[b1] += (magnitude[i,j] * p2) * (d4/t)\n",
        "            c2[b1] += (magnitude[i,j] * p2) * (d2/t)\n",
        "            c3[b1] += (magnitude[i,j] * p2) * (d3/t)\n",
        "            c4[b1] += (magnitude[i,j] * p2) * (d1/t)\n",
        "\n",
        "        else:\n",
        "          if d2 > d3:\n",
        "            c1[b1] += (magnitude[i,j] * p2) * (d4/t)\n",
        "            c2[b1] += (magnitude[i,j] * p2) * (d3/t)\n",
        "            c3[b1] += (magnitude[i,j] * p2) * (d2/t)\n",
        "            c4[b1] += (magnitude[i,j] * p2) * (d1/t)\n",
        "\n",
        "            c1[b2] += (magnitude[i,j] * p1) * (d4/t)\n",
        "            c2[b2] += (magnitude[i,j] * p1) * (d3/t)\n",
        "            c3[b2] += (magnitude[i,j] * p1) * (d2/t)\n",
        "            c4[b2] += (magnitude[i,j] * p1) * (d1/t)\n",
        "          else:\n",
        "            c1[b1] += (magnitude[i,j] * p2) * (d4/t)\n",
        "            c2[b1] += (magnitude[i,j] * p2) * (d2/t)\n",
        "            c3[b1] += (magnitude[i,j] * p2) * (d3/t)\n",
        "            c4[b1] += (magnitude[i,j] * p2) * (d1/t)\n",
        "\n",
        "            c1[b2] += (magnitude[i,j] * p1) * (d4/t)\n",
        "            c2[b2] += (magnitude[i,j] * p1) * (d2/t)\n",
        "            c3[b2] += (magnitude[i,j] * p1) * (d3/t)\n",
        "            c4[b2] += (magnitude[i,j] * p1) * (d1/t)\n",
        "\n",
        "  return Features"
      ],
      "metadata": {
        "colab": {
          "base_uri": "https://localhost:8080/"
        },
        "id": "BaMPqw5m9mVE",
        "outputId": "fe77269f-47df-42ad-c38a-80b4d362fce9"
      },
      "execution_count": null,
      "outputs": [
        {
          "output_type": "stream",
          "name": "stdout",
          "text": [
            "time: 13.7 ms (started: 2022-10-07 20:03:07 +00:00)\n"
          ]
        }
      ]
    },
    {
      "cell_type": "code",
      "source": [
        "def HOG_Bilinearly(img):\n",
        "  # Se aplica la redimensión y transformación a escala de grises\n",
        "  img_resized = gray_redimension(img)\n",
        "  # Se computan gradientes en x e y\n",
        "  gx, gy = gradientes(img_resized)\n",
        "  # Se obtienen las matrices de magnitud y dirección (ángulos)\n",
        "  mag = magnitude(gx, gy)\n",
        "  ang = angle(gx, gy)\n",
        "  # Se extraen las características\n",
        "  FeaturesHOG = HOG_Features_Bilinearly(mag, ang)\n",
        "  # Se normalizan features y se retorna el vector de largo 3780\n",
        "  features_vector = Block_Normalization(FeaturesHOG)\n",
        "  return features_vector"
      ],
      "metadata": {
        "colab": {
          "base_uri": "https://localhost:8080/"
        },
        "id": "oL82gULw9mpa",
        "outputId": "e6e01128-ad0a-48f5-886c-71e873f54ec9"
      },
      "execution_count": null,
      "outputs": [
        {
          "output_type": "stream",
          "name": "stdout",
          "text": [
            "time: 1.12 ms (started: 2022-10-07 20:03:07 +00:00)\n"
          ]
        }
      ]
    },
    {
      "cell_type": "code",
      "source": [
        "pedestrian_path = glob.glob('pedestrian//*.png') # nombres en file[11:-4]\n",
        "chair_path = glob.glob('chair//*.jpg') # nombres en file[6:-4]\n",
        "car_path = glob.glob('car_side//*.jpg') # nombres en file[9:-4]\n",
        "\n",
        "Features_Bi = []\n",
        "Class_Bi = []\n",
        "\n",
        "for file in pedestrian_path:\n",
        "    img = cv2.imread(file)\n",
        "    feature = HOG_Bilinearly(img)\n",
        "    Features_Bi.append(feature)\n",
        "    Class_Bi.append(0)\n",
        "\n",
        "for file in chair_path:\n",
        "    img = cv2.imread(file)\n",
        "    feature = HOG_Bilinearly(img)\n",
        "    Features_Bi.append(feature)\n",
        "    Class_Bi.append(1)\n",
        "\n",
        "for file in car_path:\n",
        "    img = cv2.imread(file)\n",
        "    feature = HOG_Bilinearly(img)\n",
        "    Features_Bi.append(feature)\n",
        "    Class_Bi.append(2)"
      ],
      "metadata": {
        "colab": {
          "base_uri": "https://localhost:8080/"
        },
        "id": "Z3DbCWlF9JXK",
        "outputId": "b7b75f10-3c32-4bfa-b7d4-79d14a595fb2"
      },
      "execution_count": null,
      "outputs": [
        {
          "output_type": "stream",
          "name": "stdout",
          "text": [
            "time: 2min 59s (started: 2022-10-07 20:03:08 +00:00)\n"
          ]
        }
      ]
    },
    {
      "cell_type": "code",
      "source": [
        "from sklearn.model_selection import train_test_split\n",
        "from sklearn.metrics import accuracy_score, confusion_matrix\n",
        "from sklearn.svm import SVC\n",
        "from sklearn.ensemble import RandomForestClassifier\n",
        "from sklearn.preprocessing import StandardScaler\n",
        "from sklearn.model_selection import PredefinedSplit\n",
        "\n",
        "X_80, X_test, Y_80, Y_test = train_test_split(Features_Bi, np.array(Class_Bi), test_size=0.20, stratify=Class)\n",
        "\n",
        "X_train, X_val, Y_train, Y_val = train_test_split(X_80, Y_80, train_size=0.75)\n",
        "\n",
        "scaler = StandardScaler()\n",
        "X_train = scaler.fit_transform(X_train)\n",
        "X_80 = scaler.transform(X_80)\n",
        "X_test = scaler.transform (X_test)\n",
        "\n",
        "test_fold = [-1 for _ in range(int(len(X_80)*0.75))] + [0 for _ in range(int(len(X_80)*0.25))]\n",
        "\n",
        "PSplit = PredefinedSplit(test_fold)"
      ],
      "metadata": {
        "colab": {
          "base_uri": "https://localhost:8080/"
        },
        "id": "qGbA3cBO9lX4",
        "outputId": "ca3ccaa2-ff06-4214-ae62-0e7ad464a9e5"
      },
      "execution_count": null,
      "outputs": [
        {
          "output_type": "stream",
          "name": "stdout",
          "text": [
            "time: 34.3 ms (started: 2022-10-07 21:24:51 +00:00)\n"
          ]
        }
      ]
    },
    {
      "cell_type": "code",
      "source": [
        "from sklearn.model_selection import GridSearchCV\n",
        "# Grid Search para Support Vector Machines\n",
        "model = SVC()\n",
        "parametros = {'C': [0.01, 0.1, 1.0, 10, 100, 1000],\n",
        "              'kernel': ['linear', 'poly', 'rbf', 'sigmoid'],\n",
        "              'gamma': [0.01, 0.1, 1.0, 10, 'scale', 'auto']}\n",
        "\n",
        "grid = GridSearchCV(model, parametros, cv=PSplit)\n",
        "grid.fit(X_80, Y_80)\n",
        "grid.best_estimator_"
      ],
      "metadata": {
        "colab": {
          "base_uri": "https://localhost:8080/"
        },
        "id": "zWx8diY_Ufa5",
        "outputId": "5cbcd2af-719f-419c-f05f-6d4bf190e5df"
      },
      "execution_count": null,
      "outputs": [
        {
          "output_type": "execute_result",
          "data": {
            "text/plain": [
              "SVC(C=0.01, gamma=0.01, kernel='linear')"
            ]
          },
          "metadata": {},
          "execution_count": 135
        },
        {
          "output_type": "stream",
          "name": "stdout",
          "text": [
            "time: 14.3 s (started: 2022-10-07 21:24:57 +00:00)\n"
          ]
        }
      ]
    },
    {
      "cell_type": "code",
      "source": [
        "classifier = SVC(C=0.01, kernel = 'linear', gamma = 0.01)\n",
        "classifier.fit(X_train, Y_train)\n",
        "\n",
        "Y_pred = classifier.predict(X_test)\n",
        "print('Accuracy Test SVM: ', accuracy_score(Y_test, Y_pred))"
      ],
      "metadata": {
        "colab": {
          "base_uri": "https://localhost:8080/"
        },
        "id": "NPmbHDGY9lQS",
        "outputId": "c9e954f7-822a-4ba1-cc9f-09b5b16e79c6"
      },
      "execution_count": null,
      "outputs": [
        {
          "output_type": "stream",
          "name": "stdout",
          "text": [
            "Accuracy Test SVM:  0.9459459459459459\n",
            "time: 62 ms (started: 2022-10-07 21:25:50 +00:00)\n"
          ]
        }
      ]
    },
    {
      "cell_type": "code",
      "source": [
        "import seaborn as sn\n",
        "sn.set()\n",
        "f,ax=plt.subplots()\n",
        "cm = confusion_matrix(Y_test, Y_pred, normalize = 'true')\n",
        "sn.heatmap(cm,annot=True,ax=ax, cmap = 'Blues') \n",
        "\n",
        "ax.set_title('Matriz de confusión SVM') \n",
        "ax.set_xlabel('Predicted Labels') \n",
        "ax.set_ylabel('True Labels') "
      ],
      "metadata": {
        "colab": {
          "base_uri": "https://localhost:8080/",
          "height": 336
        },
        "id": "ahy9dpAq9lOT",
        "outputId": "8b5e3892-cb5d-4485-d10b-aca9171bef44"
      },
      "execution_count": null,
      "outputs": [
        {
          "output_type": "execute_result",
          "data": {
            "text/plain": [
              "Text(30.5, 0.5, 'True Labels')"
            ]
          },
          "metadata": {},
          "execution_count": 137
        },
        {
          "output_type": "display_data",
          "data": {
            "text/plain": [
              "<Figure size 432x288 with 2 Axes>"
            ],
            "image/png": "[encoded data removed]"
          },
          "metadata": {}
        },
        {
          "output_type": "stream",
          "name": "stdout",
          "text": [
            "time: 271 ms (started: 2022-10-07 21:25:53 +00:00)\n"
          ]
        }
      ]
    },
    {
      "cell_type": "code",
      "source": [
        "from sklearn.model_selection import GridSearchCV\n",
        "# Grid Search para RandomForest\n",
        "model = RandomForestClassifier()\n",
        "parametros = {'n_estimators': [20, 50, 70, 100, 130, 180],\n",
        "              'criterion': ['gini', 'entropy', 'log_loss'],\n",
        "              'max_depth': [5, 10, 20, 30, 40, 100],\n",
        "              'max_features': ['sqrt', 'log2'], \n",
        "              'n_jobs': [1, -1]}\n",
        "grid = GridSearchCV(model, parametros, cv=PSplit)\n",
        "grid.fit(X_80, Y_80)\n",
        "grid.best_estimator_"
      ],
      "metadata": {
        "colab": {
          "base_uri": "https://localhost:8080/"
        },
        "id": "lJjZtcn0UuCr",
        "outputId": "581da856-ed23-44a6-e739-90d9e61dcc51"
      },
      "execution_count": null,
      "outputs": [
        {
          "output_type": "stream",
          "name": "stderr",
          "text": [
            "/usr/local/lib/python3.7/dist-packages/sklearn/model_selection/_validation.py:372: FitFailedWarning: \n",
            "144 fits failed out of a total of 432.\n",
            "The score on these train-test partitions for these parameters will be set to nan.\n",
            "If these failures are not expected, you can try to debug them by setting error_score='raise'.\n",
            "\n",
            "Below are more details about the failures:\n",
            "--------------------------------------------------------------------------------\n",
            "72 fits failed with the following error:\n",
            "Traceback (most recent call last):\n",
            "  File \"/usr/local/lib/python3.7/dist-packages/sklearn/model_selection/_validation.py\", line 680, in _fit_and_score\n",
            "    estimator.fit(X_train, y_train, **fit_params)\n",
            "  File \"/usr/local/lib/python3.7/dist-packages/sklearn/ensemble/_forest.py\", line 467, in fit\n",
            "    for i, t in enumerate(trees)\n",
            "  File \"/usr/local/lib/python3.7/dist-packages/joblib/parallel.py\", line 1085, in __call__\n",
            "    if self.dispatch_one_batch(iterator):\n",
            "  File \"/usr/local/lib/python3.7/dist-packages/joblib/parallel.py\", line 901, in dispatch_one_batch\n",
            "    self._dispatch(tasks)\n",
            "  File \"/usr/local/lib/python3.7/dist-packages/joblib/parallel.py\", line 819, in _dispatch\n",
            "    job = self._backend.apply_async(batch, callback=cb)\n",
            "  File \"/usr/local/lib/python3.7/dist-packages/joblib/_parallel_backends.py\", line 208, in apply_async\n",
            "    result = ImmediateResult(func)\n",
            "  File \"/usr/local/lib/python3.7/dist-packages/joblib/_parallel_backends.py\", line 597, in __init__\n",
            "    self.results = batch()\n",
            "  File \"/usr/local/lib/python3.7/dist-packages/joblib/parallel.py\", line 289, in __call__\n",
            "    for func, args, kwargs in self.items]\n",
            "  File \"/usr/local/lib/python3.7/dist-packages/joblib/parallel.py\", line 289, in <listcomp>\n",
            "    for func, args, kwargs in self.items]\n",
            "  File \"/usr/local/lib/python3.7/dist-packages/sklearn/utils/fixes.py\", line 216, in __call__\n",
            "    return self.function(*args, **kwargs)\n",
            "  File \"/usr/local/lib/python3.7/dist-packages/sklearn/ensemble/_forest.py\", line 185, in _parallel_build_trees\n",
            "    tree.fit(X, y, sample_weight=curr_sample_weight, check_input=False)\n",
            "  File \"/usr/local/lib/python3.7/dist-packages/sklearn/tree/_classes.py\", line 942, in fit\n",
            "    X_idx_sorted=X_idx_sorted,\n",
            "  File \"/usr/local/lib/python3.7/dist-packages/sklearn/tree/_classes.py\", line 352, in fit\n",
            "    criterion = CRITERIA_CLF[self.criterion](\n",
            "KeyError: 'log_loss'\n",
            "\n",
            "--------------------------------------------------------------------------------\n",
            "72 fits failed with the following error:\n",
            "joblib.externals.loky.process_executor._RemoteTraceback: \n",
            "\"\"\"\n",
            "Traceback (most recent call last):\n",
            "  File \"/usr/local/lib/python3.7/dist-packages/joblib/externals/loky/process_executor.py\", line 428, in _process_worker\n",
            "    r = call_item()\n",
            "  File \"/usr/local/lib/python3.7/dist-packages/joblib/externals/loky/process_executor.py\", line 275, in __call__\n",
            "    return self.fn(*self.args, **self.kwargs)\n",
            "  File \"/usr/local/lib/python3.7/dist-packages/joblib/_parallel_backends.py\", line 620, in __call__\n",
            "    return self.func(*args, **kwargs)\n",
            "  File \"/usr/local/lib/python3.7/dist-packages/joblib/parallel.py\", line 289, in __call__\n",
            "    for func, args, kwargs in self.items]\n",
            "  File \"/usr/local/lib/python3.7/dist-packages/joblib/parallel.py\", line 289, in <listcomp>\n",
            "    for func, args, kwargs in self.items]\n",
            "  File \"/usr/local/lib/python3.7/dist-packages/sklearn/utils/fixes.py\", line 216, in __call__\n",
            "    return self.function(*args, **kwargs)\n",
            "  File \"/usr/local/lib/python3.7/dist-packages/sklearn/ensemble/_forest.py\", line 185, in _parallel_build_trees\n",
            "    tree.fit(X, y, sample_weight=curr_sample_weight, check_input=False)\n",
            "  File \"/usr/local/lib/python3.7/dist-packages/sklearn/tree/_classes.py\", line 942, in fit\n",
            "    X_idx_sorted=X_idx_sorted,\n",
            "  File \"/usr/local/lib/python3.7/dist-packages/sklearn/tree/_classes.py\", line 352, in fit\n",
            "    criterion = CRITERIA_CLF[self.criterion](\n",
            "KeyError: 'log_loss'\n",
            "\"\"\"\n",
            "\n",
            "The above exception was the direct cause of the following exception:\n",
            "\n",
            "Traceback (most recent call last):\n",
            "  File \"/usr/local/lib/python3.7/dist-packages/sklearn/model_selection/_validation.py\", line 680, in _fit_and_score\n",
            "    estimator.fit(X_train, y_train, **fit_params)\n",
            "  File \"/usr/local/lib/python3.7/dist-packages/sklearn/ensemble/_forest.py\", line 467, in fit\n",
            "    for i, t in enumerate(trees)\n",
            "  File \"/usr/local/lib/python3.7/dist-packages/joblib/parallel.py\", line 1098, in __call__\n",
            "    self.retrieve()\n",
            "  File \"/usr/local/lib/python3.7/dist-packages/joblib/parallel.py\", line 975, in retrieve\n",
            "    self._output.extend(job.get(timeout=self.timeout))\n",
            "  File \"/usr/local/lib/python3.7/dist-packages/joblib/_parallel_backends.py\", line 567, in wrap_future_result\n",
            "    return future.result(timeout=timeout)\n",
            "  File \"/usr/lib/python3.7/concurrent/futures/_base.py\", line 435, in result\n",
            "    return self.__get_result()\n",
            "  File \"/usr/lib/python3.7/concurrent/futures/_base.py\", line 384, in __get_result\n",
            "    raise self._exception\n",
            "KeyError: 'log_loss'\n",
            "\n",
            "  warnings.warn(some_fits_failed_message, FitFailedWarning)\n",
            "/usr/local/lib/python3.7/dist-packages/sklearn/model_selection/_search.py:972: UserWarning: One or more of the test scores are non-finite: [0.86486486 0.86486486 0.86486486 0.91891892 0.89189189 0.87837838\n",
            " 0.87837838 0.89189189 0.86486486 0.86486486 0.87837838 0.87837838\n",
            " 0.87837838 0.89189189 0.81081081 0.86486486 0.85135135 0.89189189\n",
            " 0.85135135 0.85135135 0.86486486 0.85135135 0.83783784 0.82432432\n",
            " 0.90540541 0.85135135 0.89189189 0.87837838 0.89189189 0.86486486\n",
            " 0.86486486 0.86486486 0.86486486 0.87837838 0.86486486 0.87837838\n",
            " 0.83783784 0.85135135 0.86486486 0.85135135 0.85135135 0.82432432\n",
            " 0.85135135 0.87837838 0.86486486 0.86486486 0.85135135 0.86486486\n",
            " 0.86486486 0.82432432 0.87837838 0.87837838 0.86486486 0.87837838\n",
            " 0.87837838 0.86486486 0.85135135 0.85135135 0.86486486 0.86486486\n",
            " 0.86486486 0.7972973  0.83783784 0.83783784 0.86486486 0.86486486\n",
            " 0.85135135 0.86486486 0.87837838 0.82432432 0.85135135 0.85135135\n",
            " 0.86486486 0.85135135 0.87837838 0.89189189 0.87837838 0.89189189\n",
            " 0.89189189 0.87837838 0.87837838 0.87837838 0.89189189 0.86486486\n",
            " 0.86486486 0.89189189 0.86486486 0.86486486 0.87837838 0.87837838\n",
            " 0.85135135 0.86486486 0.85135135 0.86486486 0.86486486 0.86486486\n",
            " 0.90540541 0.86486486 0.87837838 0.86486486 0.87837838 0.85135135\n",
            " 0.86486486 0.85135135 0.86486486 0.86486486 0.87837838 0.87837838\n",
            " 0.85135135 0.87837838 0.89189189 0.86486486 0.86486486 0.85135135\n",
            " 0.86486486 0.85135135 0.87837838 0.85135135 0.83783784 0.83783784\n",
            " 0.82432432 0.82432432 0.87837838 0.85135135 0.85135135 0.85135135\n",
            " 0.87837838 0.87837838 0.86486486 0.87837838 0.86486486 0.86486486\n",
            " 0.83783784 0.85135135 0.83783784 0.82432432 0.85135135 0.86486486\n",
            " 0.83783784 0.83783784 0.85135135 0.83783784 0.86486486 0.83783784\n",
            " 0.87837838 0.87837838 0.86486486 0.86486486 0.86486486 0.87837838\n",
            " 0.87837838 0.89189189 0.87837838 0.89189189 0.89189189 0.87837838\n",
            " 0.85135135 0.7972973  0.83783784 0.83783784 0.86486486 0.82432432\n",
            " 0.86486486 0.83783784 0.82432432 0.85135135 0.83783784 0.82432432\n",
            " 0.83783784 0.86486486 0.86486486 0.89189189 0.87837838 0.85135135\n",
            " 0.86486486 0.87837838 0.89189189 0.87837838 0.87837838 0.86486486\n",
            " 0.86486486 0.85135135 0.83783784 0.83783784 0.89189189 0.85135135\n",
            " 0.85135135 0.86486486 0.87837838 0.86486486 0.87837838 0.86486486\n",
            " 0.87837838 0.86486486 0.85135135 0.87837838 0.85135135 0.87837838\n",
            " 0.87837838 0.89189189 0.87837838 0.87837838 0.87837838 0.89189189\n",
            " 0.82432432 0.78378378 0.86486486 0.78378378 0.86486486 0.91891892\n",
            " 0.83783784 0.85135135 0.86486486 0.85135135 0.86486486 0.85135135\n",
            " 0.83783784 0.89189189 0.86486486 0.86486486 0.86486486 0.90540541\n",
            " 0.86486486 0.90540541 0.85135135 0.87837838 0.87837838 0.89189189\n",
            " 0.85135135 0.82432432 0.87837838 0.85135135 0.83783784 0.86486486\n",
            " 0.87837838 0.86486486 0.85135135 0.87837838 0.83783784 0.86486486\n",
            " 0.85135135 0.86486486 0.86486486 0.85135135 0.87837838 0.87837838\n",
            " 0.86486486 0.86486486 0.89189189 0.89189189 0.87837838 0.86486486\n",
            " 0.87837838 0.81081081 0.85135135 0.89189189 0.86486486 0.85135135\n",
            " 0.85135135 0.83783784 0.87837838 0.83783784 0.85135135 0.86486486\n",
            " 0.85135135 0.85135135 0.85135135 0.89189189 0.85135135 0.87837838\n",
            " 0.87837838 0.86486486 0.87837838 0.87837838 0.87837838 0.86486486\n",
            " 0.82432432 0.87837838 0.83783784 0.86486486 0.82432432 0.82432432\n",
            " 0.85135135 0.82432432 0.86486486 0.83783784 0.87837838 0.87837838\n",
            "        nan        nan        nan        nan        nan        nan\n",
            "        nan        nan        nan        nan        nan        nan\n",
            "        nan        nan        nan        nan        nan        nan\n",
            "        nan        nan        nan        nan        nan        nan\n",
            "        nan        nan        nan        nan        nan        nan\n",
            "        nan        nan        nan        nan        nan        nan\n",
            "        nan        nan        nan        nan        nan        nan\n",
            "        nan        nan        nan        nan        nan        nan\n",
            "        nan        nan        nan        nan        nan        nan\n",
            "        nan        nan        nan        nan        nan        nan\n",
            "        nan        nan        nan        nan        nan        nan\n",
            "        nan        nan        nan        nan        nan        nan\n",
            "        nan        nan        nan        nan        nan        nan\n",
            "        nan        nan        nan        nan        nan        nan\n",
            "        nan        nan        nan        nan        nan        nan\n",
            "        nan        nan        nan        nan        nan        nan\n",
            "        nan        nan        nan        nan        nan        nan\n",
            "        nan        nan        nan        nan        nan        nan\n",
            "        nan        nan        nan        nan        nan        nan\n",
            "        nan        nan        nan        nan        nan        nan\n",
            "        nan        nan        nan        nan        nan        nan\n",
            "        nan        nan        nan        nan        nan        nan\n",
            "        nan        nan        nan        nan        nan        nan\n",
            "        nan        nan        nan        nan        nan        nan]\n",
            "  category=UserWarning,\n"
          ]
        },
        {
          "output_type": "execute_result",
          "data": {
            "text/plain": [
              "RandomForestClassifier(max_depth=5, max_features='sqrt', n_estimators=50,\n",
              "                       n_jobs=-1)"
            ]
          },
          "metadata": {},
          "execution_count": 138
        },
        {
          "output_type": "stream",
          "name": "stdout",
          "text": [
            "time: 3min 52s (started: 2022-10-07 21:26:19 +00:00)\n"
          ]
        }
      ]
    },
    {
      "cell_type": "code",
      "source": [
        "classifier = RandomForestClassifier(max_depth=5, max_features='sqrt', n_estimators=50, n_jobs=-1)\n",
        "classifier.fit(X_train, Y_train)\n",
        "\n",
        "Y_pred = classifier.predict(X_test)\n",
        "print('Accuracy Test RF: ', accuracy_score(Y_test, Y_pred))"
      ],
      "metadata": {
        "colab": {
          "base_uri": "https://localhost:8080/"
        },
        "id": "c1NFRJSg90ul",
        "outputId": "d4fc1ccb-6823-4aff-8287-c0a8d69594de"
      },
      "execution_count": null,
      "outputs": [
        {
          "output_type": "stream",
          "name": "stdout",
          "text": [
            "Accuracy Test RF:  0.972972972972973\n",
            "time: 333 ms (started: 2022-10-07 21:30:43 +00:00)\n"
          ]
        }
      ]
    },
    {
      "cell_type": "code",
      "source": [
        "import seaborn as sn\n",
        "sn.set()\n",
        "f,ax=plt.subplots()\n",
        "cm = confusion_matrix(Y_test, Y_pred, normalize = 'true')\n",
        "sn.heatmap(cm,annot=True,ax=ax, cmap = 'Blues') \n",
        "\n",
        "ax.set_title('Matriz de confusión RF') \n",
        "ax.set_xlabel('Predicted Labels') \n",
        "ax.set_ylabel('True Labels') "
      ],
      "metadata": {
        "colab": {
          "base_uri": "https://localhost:8080/",
          "height": 336
        },
        "id": "45ADTIG590sP",
        "outputId": "270dd4eb-f53c-4f4a-f273-c58487ee7730"
      },
      "execution_count": null,
      "outputs": [
        {
          "output_type": "execute_result",
          "data": {
            "text/plain": [
              "Text(30.5, 0.5, 'True Labels')"
            ]
          },
          "metadata": {},
          "execution_count": 142
        },
        {
          "output_type": "display_data",
          "data": {
            "text/plain": [
              "<Figure size 432x288 with 2 Axes>"
            ],
            "image/png": "[encoded data removed]"
          },
          "metadata": {}
        },
        {
          "output_type": "stream",
          "name": "stdout",
          "text": [
            "time: 279 ms (started: 2022-10-07 21:30:50 +00:00)\n"
          ]
        }
      ]
    },
    {
      "cell_type": "code",
      "source": [],
      "metadata": {
        "colab": {
          "base_uri": "https://localhost:8080/"
        },
        "id": "CWX7K62K90oI",
        "outputId": "2ea1777d-860c-4110-afcd-be850cc1ffea"
      },
      "execution_count": null,
      "outputs": [
        {
          "output_type": "stream",
          "name": "stdout",
          "text": [
            "time: 297 ms (started: 2022-10-07 20:06:08 +00:00)\n"
          ]
        }
      ]
    }
  ]
}